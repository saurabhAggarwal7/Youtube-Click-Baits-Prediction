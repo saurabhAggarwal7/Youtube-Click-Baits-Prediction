{
 "cells": [
  {
   "cell_type": "markdown",
   "metadata": {
    "colab_type": "text",
    "id": "4nr8YHr-U4a7"
   },
   "source": [
    "### Training set data distribution"
   ]
  },
  {
   "cell_type": "code",
   "execution_count": 1,
   "metadata": {
    "colab": {},
    "colab_type": "code",
    "id": "Aq6A0dRzYWic"
   },
   "outputs": [],
   "source": [
    "import pickle\n",
    "\n",
    "\n",
    "x_utube_training = pickle.load(open(\"data/x-train\", \"rb\"))\n",
    "y_utube_training = pickle.load(open(\"data/y-train\", \"rb\"))"
   ]
  },
  {
   "cell_type": "code",
   "execution_count": 2,
   "metadata": {
    "colab": {
     "base_uri": "https://localhost:8080/",
     "height": 35
    },
    "colab_type": "code",
    "executionInfo": {
     "elapsed": 15972,
     "status": "ok",
     "timestamp": 1543527744514,
     "user": {
      "displayName": "Shared 98999",
      "photoUrl": "",
      "userId": "02966646165121999534"
     },
     "user_tz": 480
    },
    "id": "7JEt6e14U4a_",
    "outputId": "bda8081a-e543-4a19-86ab-50eecd4514f2"
   },
   "outputs": [
    {
     "data": {
      "text/plain": [
       "(28800, 12)"
      ]
     },
     "execution_count": 2,
     "metadata": {},
     "output_type": "execute_result"
    }
   ],
   "source": [
    "x_utube_training.shape"
   ]
  },
  {
   "cell_type": "code",
   "execution_count": 3,
   "metadata": {
    "colab": {
     "base_uri": "https://localhost:8080/",
     "height": 295
    },
    "colab_type": "code",
    "executionInfo": {
     "elapsed": 15961,
     "status": "ok",
     "timestamp": 1543527744515,
     "user": {
      "displayName": "Shared 98999",
      "photoUrl": "",
      "userId": "02966646165121999534"
     },
     "user_tz": 480
    },
    "id": "xSLcBQFvU4bF",
    "outputId": "70cca092-9b6f-41e5-9736-7954ba3bed22"
   },
   "outputs": [
    {
     "data": {
      "text/html": [
       "<div>\n",
       "<style scoped>\n",
       "    .dataframe tbody tr th:only-of-type {\n",
       "        vertical-align: middle;\n",
       "    }\n",
       "\n",
       "    .dataframe tbody tr th {\n",
       "        vertical-align: top;\n",
       "    }\n",
       "\n",
       "    .dataframe thead th {\n",
       "        text-align: right;\n",
       "    }\n",
       "</style>\n",
       "<table border=\"1\" class=\"dataframe\">\n",
       "  <thead>\n",
       "    <tr style=\"text-align: right;\">\n",
       "      <th></th>\n",
       "      <th>channel_subscribers</th>\n",
       "      <th>channel_videos</th>\n",
       "      <th>channel_views</th>\n",
       "      <th>video_comments</th>\n",
       "      <th>video_dislikes</th>\n",
       "      <th>video_likes</th>\n",
       "      <th>video_views</th>\n",
       "    </tr>\n",
       "  </thead>\n",
       "  <tbody>\n",
       "    <tr>\n",
       "      <th>count</th>\n",
       "      <td>2.880000e+04</td>\n",
       "      <td>28800.000000</td>\n",
       "      <td>2.880000e+04</td>\n",
       "      <td>28800.000000</td>\n",
       "      <td>2.880000e+04</td>\n",
       "      <td>2.880000e+04</td>\n",
       "      <td>2.880000e+04</td>\n",
       "    </tr>\n",
       "    <tr>\n",
       "      <th>mean</th>\n",
       "      <td>3.868475e+06</td>\n",
       "      <td>4413.583681</td>\n",
       "      <td>1.535071e+09</td>\n",
       "      <td>2472.685312</td>\n",
       "      <td>1.286127e+03</td>\n",
       "      <td>2.239556e+04</td>\n",
       "      <td>2.641511e+06</td>\n",
       "    </tr>\n",
       "    <tr>\n",
       "      <th>std</th>\n",
       "      <td>6.028908e+06</td>\n",
       "      <td>14073.668854</td>\n",
       "      <td>3.153868e+09</td>\n",
       "      <td>9132.794099</td>\n",
       "      <td>8.628803e+03</td>\n",
       "      <td>1.471197e+05</td>\n",
       "      <td>2.986568e+07</td>\n",
       "    </tr>\n",
       "    <tr>\n",
       "      <th>min</th>\n",
       "      <td>0.000000e+00</td>\n",
       "      <td>12.000000</td>\n",
       "      <td>1.863240e+05</td>\n",
       "      <td>0.000000</td>\n",
       "      <td>0.000000e+00</td>\n",
       "      <td>0.000000e+00</td>\n",
       "      <td>0.000000e+00</td>\n",
       "    </tr>\n",
       "    <tr>\n",
       "      <th>25%</th>\n",
       "      <td>3.315150e+05</td>\n",
       "      <td>303.000000</td>\n",
       "      <td>1.174793e+08</td>\n",
       "      <td>49.000000</td>\n",
       "      <td>2.700000e+01</td>\n",
       "      <td>3.360000e+02</td>\n",
       "      <td>3.497075e+04</td>\n",
       "    </tr>\n",
       "    <tr>\n",
       "      <th>50%</th>\n",
       "      <td>1.424711e+06</td>\n",
       "      <td>692.000000</td>\n",
       "      <td>3.962555e+08</td>\n",
       "      <td>382.000000</td>\n",
       "      <td>1.680000e+02</td>\n",
       "      <td>2.788000e+03</td>\n",
       "      <td>3.446555e+05</td>\n",
       "    </tr>\n",
       "    <tr>\n",
       "      <th>75%</th>\n",
       "      <td>4.713043e+06</td>\n",
       "      <td>2065.000000</td>\n",
       "      <td>1.469493e+09</td>\n",
       "      <td>1861.000000</td>\n",
       "      <td>8.340000e+02</td>\n",
       "      <td>1.516125e+04</td>\n",
       "      <td>1.707797e+06</td>\n",
       "    </tr>\n",
       "    <tr>\n",
       "      <th>max</th>\n",
       "      <td>3.452421e+07</td>\n",
       "      <td>142439.000000</td>\n",
       "      <td>2.631521e+10</td>\n",
       "      <td>793927.000000</td>\n",
       "      <td>1.004742e+06</td>\n",
       "      <td>1.759136e+07</td>\n",
       "      <td>3.773968e+09</td>\n",
       "    </tr>\n",
       "  </tbody>\n",
       "</table>\n",
       "</div>"
      ],
      "text/plain": [
       "       channel_subscribers  channel_videos  channel_views  video_comments  \\\n",
       "count         2.880000e+04    28800.000000   2.880000e+04    28800.000000   \n",
       "mean          3.868475e+06     4413.583681   1.535071e+09     2472.685312   \n",
       "std           6.028908e+06    14073.668854   3.153868e+09     9132.794099   \n",
       "min           0.000000e+00       12.000000   1.863240e+05        0.000000   \n",
       "25%           3.315150e+05      303.000000   1.174793e+08       49.000000   \n",
       "50%           1.424711e+06      692.000000   3.962555e+08      382.000000   \n",
       "75%           4.713043e+06     2065.000000   1.469493e+09     1861.000000   \n",
       "max           3.452421e+07   142439.000000   2.631521e+10   793927.000000   \n",
       "\n",
       "       video_dislikes   video_likes   video_views  \n",
       "count    2.880000e+04  2.880000e+04  2.880000e+04  \n",
       "mean     1.286127e+03  2.239556e+04  2.641511e+06  \n",
       "std      8.628803e+03  1.471197e+05  2.986568e+07  \n",
       "min      0.000000e+00  0.000000e+00  0.000000e+00  \n",
       "25%      2.700000e+01  3.360000e+02  3.497075e+04  \n",
       "50%      1.680000e+02  2.788000e+03  3.446555e+05  \n",
       "75%      8.340000e+02  1.516125e+04  1.707797e+06  \n",
       "max      1.004742e+06  1.759136e+07  3.773968e+09  "
      ]
     },
     "execution_count": 3,
     "metadata": {},
     "output_type": "execute_result"
    }
   ],
   "source": [
    "x_utube_training.describe()"
   ]
  },
  {
   "cell_type": "markdown",
   "metadata": {
    "colab_type": "text",
    "id": "I6S_fC9nU4bJ"
   },
   "source": [
    "#### Plots"
   ]
  },
  {
   "cell_type": "code",
   "execution_count": 4,
   "metadata": {
    "colab": {},
    "colab_type": "code",
    "id": "fwQl7Mg5U4bK"
   },
   "outputs": [],
   "source": [
    "import matplotlib.pyplot as utube_plot\n",
    "import pandas as pd\n",
    "import numpy as np\n",
    "\n",
    "train_set = pd.concat([ x_utube_training, y_utube_training ], axis=1)\n",
    "clickbait_set = train_set[ train_set[\"label\"] == 1 ]\n",
    "non_clickbait_set = train_set[ train_set[\"label\"] == 0 ]"
   ]
  },
  {
   "cell_type": "code",
   "execution_count": 5,
   "metadata": {
    "colab": {
     "base_uri": "https://localhost:8080/",
     "height": 457
    },
    "colab_type": "code",
    "executionInfo": {
     "elapsed": 17406,
     "status": "ok",
     "timestamp": 1543527745980,
     "user": {
      "displayName": "Shared 98999",
      "photoUrl": "",
      "userId": "02966646165121999534"
     },
     "user_tz": 480
    },
    "id": "LRCQoui2U4bO",
    "outputId": "3fc8ecf8-1f75-4e9d-f500-a4ac3f9c9fc3"
   },
   "outputs": [
    {
     "data": {
      "image/png": "[encoded data removed]",
      "text/plain": [
       "<Figure size 600x400 with 1 Axes>"
      ]
     },
     "metadata": {},
     "output_type": "display_data"
    }
   ],
   "source": [
    "utube_plot.figure(figsize=(6, 4), dpi=100)\n",
    "clickbait_views_log = clickbait_set[\"video_views\"].apply(np.log).replace([-np.inf], 0)\n",
    "non_clickbait_views_log = non_clickbait_set[\"video_views\"].apply(np.log).replace([-np.inf], 0)\n",
    "utube_plot.hist(\n",
    "    [clickbait_views_log, non_clickbait_views_log], \n",
    "    bins=40, \n",
    "    color=[\"red\", \"blue\"], \n",
    "    label=[\"Clickbait\", \"Non-clickbait\"], \n",
    "    alpha=0.5\n",
    ")\n",
    "utube_plot.title(\"Views distribution (logarithmic)\")\n",
    "utube_plot.xlabel(\"log(views)\")\n",
    "utube_plot.ylabel(\"samples\")\n",
    "utube_plot.legend(loc='upper right')\n",
    "utube_plot.savefig(\"views-distribution-log\", bbox_inches='tight')\n",
    "utube_plot.show()"
   ]
  },
  {
   "cell_type": "code",
   "execution_count": 6,
   "metadata": {
    "colab": {
     "base_uri": "https://localhost:8080/",
     "height": 457
    },
    "colab_type": "code",
    "executionInfo": {
     "elapsed": 18867,
     "status": "ok",
     "timestamp": 1543527747451,
     "user": {
      "displayName": "Shared 98999",
      "photoUrl": "",
      "userId": "02966646165121999534"
     },
     "user_tz": 480
    },
    "id": "rvdLEeAfU4bT",
    "outputId": "26b16a08-e599-4dcd-e5b6-231fe0e1cde1"
   },
   "outputs": [
    {
     "data": {
      "image/png": "[encoded data removed]",
      "text/plain": [
       "<Figure size 600x400 with 1 Axes>"
      ]
     },
     "metadata": {},
     "output_type": "display_data"
    }
   ],
   "source": [
    "utube_plot.figure(figsize=(6, 4), dpi=100)\n",
    "clickbait_likes_log = clickbait_set[\"video_likes\"].apply(np.log).replace([-np.inf], 0)\n",
    "non_clickbait_likes_log = non_clickbait_set[\"video_likes\"].apply(np.log).replace([-np.inf], 0)\n",
    "\n",
    "utube_plot.hist(\n",
    "    [clickbait_likes_log, non_clickbait_likes_log], \n",
    "    bins=40, \n",
    "    color=[\"red\", \"blue\"], \n",
    "    label=[\"Clickbait\", \"Non-clickbait\"], \n",
    "    alpha=0.5\n",
    ")\n",
    "\n",
    "utube_plot.title(\"Likes distribution (logarithmic)\")\n",
    "utube_plot.xlabel(\"log(likes)\")\n",
    "utube_plot.ylabel(\"samples\")\n",
    "utube_plot.legend(loc='upper right')\n",
    "utube_plot.savefig(\"likes-distribution-log\", bbox_inches='tight')\n",
    "utube_plot.show()"
   ]
  },
  {
   "cell_type": "code",
   "execution_count": 7,
   "metadata": {
    "colab": {
     "base_uri": "https://localhost:8080/",
     "height": 457
    },
    "colab_type": "code",
    "executionInfo": {
     "elapsed": 19988,
     "status": "ok",
     "timestamp": 1543527748581,
     "user": {
      "displayName": "Shared 98999",
      "photoUrl": "",
      "userId": "02966646165121999534"
     },
     "user_tz": 480
    },
    "id": "InuVbqDhU4bZ",
    "outputId": "1ffdf546-5c53-43bc-8c20-875af8033bb9"
   },
   "outputs": [
    {
     "data": {
      "image/png": "[encoded data removed]",
      "text/plain": [
       "<Figure size 600x400 with 1 Axes>"
      ]
     },
     "metadata": {},
     "output_type": "display_data"
    }
   ],
   "source": [
    "utube_plot.figure(figsize=(6, 4), dpi=100)\n",
    "clickbait_dislikes_log = clickbait_set[\"video_dislikes\"].apply(np.log).replace([-np.inf], 0)\n",
    "non_clickbait_dislikes_log = non_clickbait_set[\"video_dislikes\"].apply(np.log).replace([-np.inf], 0)\n",
    "utube_plot.hist(\n",
    "    [clickbait_dislikes_log, non_clickbait_dislikes_log], \n",
    "    bins=40, \n",
    "    color=[\"red\", \"blue\"], \n",
    "    label=[\"Clickbait\", \"Non-clickbait\"], \n",
    "    alpha=0.5\n",
    ")\n",
    "utube_plot.title(\"Dislikes distribution (logarithmic)\")\n",
    "utube_plot.xlabel(\"log(dislikes)\")\n",
    "utube_plot.ylabel(\"samples\")\n",
    "utube_plot.legend(loc='upper right')\n",
    "utube_plot.savefig(\"dislikes-distribution-log\", bbox_inches='tight')\n",
    "utube_plot.show()"
   ]
  },
  {
   "cell_type": "code",
   "execution_count": 8,
   "metadata": {
    "colab": {
     "base_uri": "https://localhost:8080/",
     "height": 457
    },
    "colab_type": "code",
    "executionInfo": {
     "elapsed": 21356,
     "status": "ok",
     "timestamp": 1543527749957,
     "user": {
      "displayName": "Shared 98999",
      "photoUrl": "",
      "userId": "02966646165121999534"
     },
     "user_tz": 480
    },
    "id": "kyQwWIXSU4bf",
    "outputId": "ec2107ce-e83e-40c5-804c-125b760c9ac3"
   },
   "outputs": [
    {
     "data": {
      "image/png": "[encoded data removed]",
      "text/plain": [
       "<Figure size 600x400 with 1 Axes>"
      ]
     },
     "metadata": {},
     "output_type": "display_data"
    }
   ],
   "source": [
    "utube_plot.figure(figsize=(6, 4), dpi=100)\n",
    "clickbait_comments_log = clickbait_set[\"video_comments\"].apply(np.log).replace([-np.inf], 0)\n",
    "non_clickbait_comments_log = non_clickbait_set[\"video_comments\"].apply(np.log).replace([-np.inf], 0)\n",
    "utube_plot.hist(\n",
    "    [clickbait_comments_log, non_clickbait_comments_log], \n",
    "    bins=40, \n",
    "    color=[\"red\", \"blue\"], \n",
    "    label=[\"Clickbait\", \"Non-clickbait\"], \n",
    "    alpha=0.5\n",
    ")\n",
    "utube_plot.title(\"Comments distribution (logarithmic)\")\n",
    "utube_plot.xlabel(\"log(comments)\")\n",
    "utube_plot.ylabel(\"samples\")\n",
    "utube_plot.legend(loc='upper right')\n",
    "utube_plot.savefig(\"comments-distribution-log\", bbox_inches='tight')\n",
    "utube_plot.show()"
   ]
  },
  {
   "cell_type": "markdown",
   "metadata": {
    "colab_type": "text",
    "id": "qWT5ZoYBU4bl"
   },
   "source": [
    "### Feature extraction"
   ]
  },
  {
   "cell_type": "code",
   "execution_count": 9,
   "metadata": {
    "colab": {},
    "colab_type": "code",
    "id": "O8DxPZweU4bm"
   },
   "outputs": [
    {
     "name": "stderr",
     "output_type": "stream",
     "text": [
      "C:\\Users\\Abhishek\\Anaconda3\\lib\\site-packages\\gensim\\utils.py:1212: UserWarning: detected Windows; aliasing chunkize to chunkize_serial\n",
      "  warnings.warn(\"detected Windows; aliasing chunkize to chunkize_serial\")\n"
     ]
    }
   ],
   "source": [
    "import re\n",
    "import emoji\n",
    "from gensim.parsing.preprocessing import *\n",
    "\n",
    "\n",
    "def tokenize(string):\n",
    "\n",
    "    \"\"\" Tokenizes a string \"\"\"\n",
    "\n",
    "    stop_words = [\n",
    "        \"about\", \"an\", \"are\", \"as\", \"at\", \"be\", \"by\", \"com\", \"for\", \"from\", \"in\", \"is\", \"it\", \"of\",\n",
    "        \"on\", \"or\", \"that\", \"the\", \"this\", \"to\", \"was\", \"what\", \"when\", \"where\", \"who\", \"with\",\n",
    "        \"the\", \"www\"\n",
    "    ]\n",
    "\n",
    "    string = strip_short(\n",
    "        strip_multiple_whitespaces(\n",
    "            strip_punctuation(\n",
    "                split_alphanum(string))),\n",
    "        minsize=2)\n",
    "    \n",
    "    emojis = [c for c in string if c in emoji.UNICODE_EMOJI]\n",
    "    \n",
    "    string = stem_text(re.sub(r\"[^\\w\\s,]\", \"\", string))\n",
    "    \n",
    "    tokens = string.split() + emojis\n",
    "\n",
    "    for stop_word in stop_words:\n",
    "        try:\n",
    "            tokens.remove(stop_word)\n",
    "        except:\n",
    "            pass\n",
    "\n",
    "    return tokens"
   ]
  },
  {
   "cell_type": "code",
   "execution_count": 10,
   "metadata": {
    "colab": {
     "base_uri": "https://localhost:8080/",
     "height": 415
    },
    "colab_type": "code",
    "executionInfo": {
     "elapsed": 31188,
     "status": "ok",
     "timestamp": 1543527759805,
     "user": {
      "displayName": "Shared 98999",
      "photoUrl": "",
      "userId": "02966646165121999534"
     },
     "user_tz": 480
    },
    "id": "sp7uQrhWU4bq",
    "outputId": "edf81919-b224-42c6-d71b-062c7f358bb2"
   },
   "outputs": [
    {
     "data": {
      "image/png": "[encoded data removed]",
      "text/plain": [
       "<Figure size 600x400 with 1 Axes>"
      ]
     },
     "metadata": {},
     "output_type": "display_data"
    }
   ],
   "source": [
    "from sklearn.feature_extraction.text import CountVectorizer\n",
    "\n",
    "\n",
    "countvect = CountVectorizer(\n",
    "    lowercase=False,\n",
    "    tokenizer=tokenize\n",
    ").fit(clickbait_set[\"video_title\"])\n",
    "bag_of_words = countvect.transform(clickbait_set[\"video_title\"])\n",
    "sum_words = bag_of_words.sum(axis=0) \n",
    "words_freq = [(word, sum_words[0, i]) for word, i in countvect.vocabulary_.items()]\n",
    "words_freq = sorted(words_freq, key = lambda x: x[1], reverse=True)\n",
    "\n",
    "labels = list()\n",
    "freqs = list()\n",
    "\n",
    "for word in words_freq[:30]:\n",
    "    labels.append(word[0])\n",
    "    freqs.append(word[1])\n",
    "\n",
    "utube_plot.figure(figsize=(6, 4), dpi=100)\n",
    "utube_plot.bar(range(30), freqs, alpha=0.5)\n",
    "utube_plot.xticks(range(30), labels, rotation=\"vertical\")\n",
    "utube_plot.title(\"Top 30 tokens in clickbait titles\")\n",
    "utube_plot.ylabel(\"occurrences\")\n",
    "utube_plot.savefig(\"top-30-clickbait-tokens\", bbox_inches='tight')\n",
    "utube_plot.show()"
   ]
  },
  {
   "cell_type": "code",
   "execution_count": 0,
   "metadata": {
    "colab": {},
    "colab_type": "code",
    "id": "0iekWgXXU4bw"
   },
   "outputs": [],
   "source": []
  }
 ],
 "metadata": {
  "colab": {
   "name": "dexters_youtube_detector_analysis.ipynb",
   "provenance": [],
   "version": "0.3.2"
  },
  "kernelspec": {
   "display_name": "Python 3",
   "language": "python",
   "name": "python3"
  },
  "language_info": {
   "codemirror_mode": {
    "name": "ipython",
    "version": 3
   },
   "file_extension": ".py",
   "mimetype": "text/x-python",
   "name": "python",
   "nbconvert_exporter": "python",
   "pygments_lexer": "ipython3",
   "version": "3.6.6"
  }
 },
 "nbformat": 4,
 "nbformat_minor": 1
}
