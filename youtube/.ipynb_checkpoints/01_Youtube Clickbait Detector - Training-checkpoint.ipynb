{
 "cells": [
  {
   "cell_type": "code",
   "execution_count": 30,
   "metadata": {
    "colab": {},
    "colab_type": "code",
    "id": "-tbwgAgTVRhA"
   },
   "outputs": [],
   "source": [
    "import pickle\n",
    "\n",
    "\n",
    "utube_clickbait_df = pickle.load(open(\"data/clickbait-df\", \"rb\"))\n",
    "utube_nonclickbait_df = pickle.load(open(\"data/non-clickbait-df\", \"rb\"))"
   ]
  },
  {
   "cell_type": "code",
   "execution_count": 31,
   "metadata": {},
   "outputs": [
    {
     "data": {
      "text/html": [
       "<div>\n",
       "<style scoped>\n",
       "    .dataframe tbody tr th:only-of-type {\n",
       "        vertical-align: middle;\n",
       "    }\n",
       "\n",
       "    .dataframe tbody tr th {\n",
       "        vertical-align: top;\n",
       "    }\n",
       "\n",
       "    .dataframe thead th {\n",
       "        text-align: right;\n",
       "    }\n",
       "</style>\n",
       "<table border=\"1\" class=\"dataframe\">\n",
       "  <thead>\n",
       "    <tr style=\"text-align: right;\">\n",
       "      <th></th>\n",
       "      <th>channel_id</th>\n",
       "      <th>channel_name</th>\n",
       "      <th>channel_subscribers</th>\n",
       "      <th>channel_videos</th>\n",
       "      <th>channel_views</th>\n",
       "      <th>video_comments</th>\n",
       "      <th>video_dislikes</th>\n",
       "      <th>video_id</th>\n",
       "      <th>video_likes</th>\n",
       "      <th>video_title</th>\n",
       "      <th>video_views</th>\n",
       "    </tr>\n",
       "  </thead>\n",
       "  <tbody>\n",
       "    <tr>\n",
       "      <th>11218</th>\n",
       "      <td>UC7t6FZ5U17ruEXRH1WRxcTQ</td>\n",
       "      <td>Top List</td>\n",
       "      <td>0</td>\n",
       "      <td>193</td>\n",
       "      <td>143713154</td>\n",
       "      <td>131.0</td>\n",
       "      <td>183.0</td>\n",
       "      <td>hDcWfBq5bxM</td>\n",
       "      <td>1424.0</td>\n",
       "      <td>10 Amazing Places That Disappear During High Tide</td>\n",
       "      <td>360859.0</td>\n",
       "    </tr>\n",
       "    <tr>\n",
       "      <th>3168</th>\n",
       "      <td>UCXtjxYo_xhm1GoSPlgfV3eQ</td>\n",
       "      <td>EG Mines</td>\n",
       "      <td>403931</td>\n",
       "      <td>658</td>\n",
       "      <td>119696149</td>\n",
       "      <td>1.0</td>\n",
       "      <td>7.0</td>\n",
       "      <td>D_wROW7u89Y</td>\n",
       "      <td>7.0</td>\n",
       "      <td>Simple Math Test in 59 Seconds - Genius Test</td>\n",
       "      <td>2483.0</td>\n",
       "    </tr>\n",
       "  </tbody>\n",
       "</table>\n",
       "</div>"
      ],
      "text/plain": [
       "                     channel_id channel_name  channel_subscribers  \\\n",
       "11218  UC7t6FZ5U17ruEXRH1WRxcTQ     Top List                    0   \n",
       "3168   UCXtjxYo_xhm1GoSPlgfV3eQ     EG Mines               403931   \n",
       "\n",
       "       channel_videos  channel_views  video_comments  video_dislikes  \\\n",
       "11218             193      143713154           131.0           183.0   \n",
       "3168              658      119696149             1.0             7.0   \n",
       "\n",
       "          video_id  video_likes  \\\n",
       "11218  hDcWfBq5bxM       1424.0   \n",
       "3168   D_wROW7u89Y          7.0   \n",
       "\n",
       "                                             video_title  video_views  \n",
       "11218  10 Amazing Places That Disappear During High Tide     360859.0  \n",
       "3168        Simple Math Test in 59 Seconds - Genius Test       2483.0  "
      ]
     },
     "execution_count": 31,
     "metadata": {},
     "output_type": "execute_result"
    }
   ],
   "source": [
    "utube_clickbait_df.head(2)"
   ]
  },
  {
   "cell_type": "code",
   "execution_count": 32,
   "metadata": {
    "colab": {
     "base_uri": "https://localhost:8080/",
     "height": 35
    },
    "colab_type": "code",
    "executionInfo": {
     "elapsed": 11525,
     "status": "ok",
     "timestamp": 1543530144267,
     "user": {
      "displayName": "Shared 98999",
      "photoUrl": "",
      "userId": "02966646165121999534"
     },
     "user_tz": 480
    },
    "id": "OkHGL4mvU_vP",
    "outputId": "112f2f54-11bc-456f-8056-1834340fcd8e"
   },
   "outputs": [
    {
     "data": {
      "text/plain": [
       "(18317, 11)"
      ]
     },
     "execution_count": 32,
     "metadata": {},
     "output_type": "execute_result"
    }
   ],
   "source": [
    "utube_clickbait_df.shape"
   ]
  },
  {
   "cell_type": "code",
   "execution_count": 33,
   "metadata": {},
   "outputs": [
    {
     "data": {
      "text/html": [
       "<div>\n",
       "<style scoped>\n",
       "    .dataframe tbody tr th:only-of-type {\n",
       "        vertical-align: middle;\n",
       "    }\n",
       "\n",
       "    .dataframe tbody tr th {\n",
       "        vertical-align: top;\n",
       "    }\n",
       "\n",
       "    .dataframe thead th {\n",
       "        text-align: right;\n",
       "    }\n",
       "</style>\n",
       "<table border=\"1\" class=\"dataframe\">\n",
       "  <thead>\n",
       "    <tr style=\"text-align: right;\">\n",
       "      <th></th>\n",
       "      <th>channel_id</th>\n",
       "      <th>channel_name</th>\n",
       "      <th>channel_subscribers</th>\n",
       "      <th>channel_videos</th>\n",
       "      <th>channel_views</th>\n",
       "      <th>video_comments</th>\n",
       "      <th>video_dislikes</th>\n",
       "      <th>video_id</th>\n",
       "      <th>video_likes</th>\n",
       "      <th>video_title</th>\n",
       "      <th>video_views</th>\n",
       "    </tr>\n",
       "  </thead>\n",
       "  <tbody>\n",
       "    <tr>\n",
       "      <th>11218</th>\n",
       "      <td>UC7t6FZ5U17ruEXRH1WRxcTQ</td>\n",
       "      <td>Top List</td>\n",
       "      <td>0</td>\n",
       "      <td>193</td>\n",
       "      <td>143713154</td>\n",
       "      <td>131.0</td>\n",
       "      <td>183.0</td>\n",
       "      <td>hDcWfBq5bxM</td>\n",
       "      <td>1424.0</td>\n",
       "      <td>10 Amazing Places That Disappear During High Tide</td>\n",
       "      <td>360859.0</td>\n",
       "    </tr>\n",
       "    <tr>\n",
       "      <th>3168</th>\n",
       "      <td>UCXtjxYo_xhm1GoSPlgfV3eQ</td>\n",
       "      <td>EG Mines</td>\n",
       "      <td>403931</td>\n",
       "      <td>658</td>\n",
       "      <td>119696149</td>\n",
       "      <td>1.0</td>\n",
       "      <td>7.0</td>\n",
       "      <td>D_wROW7u89Y</td>\n",
       "      <td>7.0</td>\n",
       "      <td>Simple Math Test in 59 Seconds - Genius Test</td>\n",
       "      <td>2483.0</td>\n",
       "    </tr>\n",
       "  </tbody>\n",
       "</table>\n",
       "</div>"
      ],
      "text/plain": [
       "                     channel_id channel_name  channel_subscribers  \\\n",
       "11218  UC7t6FZ5U17ruEXRH1WRxcTQ     Top List                    0   \n",
       "3168   UCXtjxYo_xhm1GoSPlgfV3eQ     EG Mines               403931   \n",
       "\n",
       "       channel_videos  channel_views  video_comments  video_dislikes  \\\n",
       "11218             193      143713154           131.0           183.0   \n",
       "3168              658      119696149             1.0             7.0   \n",
       "\n",
       "          video_id  video_likes  \\\n",
       "11218  hDcWfBq5bxM       1424.0   \n",
       "3168   D_wROW7u89Y          7.0   \n",
       "\n",
       "                                             video_title  video_views  \n",
       "11218  10 Amazing Places That Disappear During High Tide     360859.0  \n",
       "3168        Simple Math Test in 59 Seconds - Genius Test       2483.0  "
      ]
     },
     "execution_count": 33,
     "metadata": {},
     "output_type": "execute_result"
    }
   ],
   "source": [
    "utube_clickbait_df.head(2)"
   ]
  },
  {
   "cell_type": "code",
   "execution_count": 34,
   "metadata": {
    "colab": {
     "base_uri": "https://localhost:8080/",
     "height": 35
    },
    "colab_type": "code",
    "executionInfo": {
     "elapsed": 11516,
     "status": "ok",
     "timestamp": 1543530144268,
     "user": {
      "displayName": "Shared 98999",
      "photoUrl": "",
      "userId": "02966646165121999534"
     },
     "user_tz": 480
    },
    "id": "qDp-aWhlU_vV",
    "outputId": "7d73604b-036f-4432-eb78-9f25f08ca996"
   },
   "outputs": [
    {
     "data": {
      "text/plain": [
       "(19080, 11)"
      ]
     },
     "execution_count": 34,
     "metadata": {},
     "output_type": "execute_result"
    }
   ],
   "source": [
    "utube_nonclickbait_df.shape"
   ]
  },
  {
   "cell_type": "code",
   "execution_count": 35,
   "metadata": {
    "colab": {},
    "colab_type": "code",
    "id": "OH225GROU_vb"
   },
   "outputs": [],
   "source": [
    "import re\n",
    "import emoji\n",
    "from gensim.parsing.preprocessing import *\n",
    "\n",
    "\n",
    "def tokenize(string):\n",
    "\n",
    "    \"\"\" Tokenizes a string.\n",
    "    \"\"\"\n",
    "    stop_words = [\n",
    "        \"about\", \"an\", \"are\", \"as\", \"at\", \"be\", \"by\", \"com\", \"for\", \"from\", \"in\", \"is\", \"it\", \"of\", \"on\", \"or\", \"that\",\n",
    "        \"the\", \"this\", \"to\", \"was\", \"what\", \"when\", \"where\", \"who\", \"with\", \"the\", \"www\"\n",
    "    ]\n",
    "\n",
    "    string = strip_short(\n",
    "        strip_multiple_whitespaces(\n",
    "            strip_punctuation(\n",
    "                split_alphanum(string))),\n",
    "        minsize=2)\n",
    "    \n",
    "    emojis = [ c for c in string if c in emoji.UNICODE_EMOJI ]\n",
    "    \n",
    "    string = stem_text(re.sub(r\"[^\\w\\s,]\", \"\", string))\n",
    "    \n",
    "\n",
    "    tokens = string.split() + emojis\n",
    "    \n",
    "    for stop_word in stop_words:\n",
    "        try:\n",
    "            tokens.remove(stop_word)\n",
    "        except:\n",
    "            pass\n",
    "\n",
    "    return tokens"
   ]
  },
  {
   "cell_type": "code",
   "execution_count": 36,
   "metadata": {
    "colab": {},
    "colab_type": "code",
    "id": "obVIBf8jU_vf"
   },
   "outputs": [],
   "source": [
    "utube_clickbait_df[\"video_title_tokenized\"] = utube_clickbait_df[\"video_title\"].apply(tokenize)\n",
    "utube_nonclickbait_df[\"video_title_tokenized\"] = utube_nonclickbait_df[\"video_title\"].apply(tokenize)"
   ]
  },
  {
   "cell_type": "code",
   "execution_count": 37,
   "metadata": {
    "colab": {},
    "colab_type": "code",
    "id": "kmNsnTtLU_vi"
   },
   "outputs": [],
   "source": [
    "import pandas as pd\n",
    "from sklearn.model_selection import train_test_split\n",
    "\n",
    "\n",
    "utube_clickbait_df[\"label\"] = 1\n",
    "utube_nonclickbait_df[\"label\"] = 0\n",
    "\n",
    "utube_clickbait_df = utube_clickbait_df.sample(frac=1).sample(frac=1).sample(n=18000)\n",
    "utube_nonclickbait_df = utube_nonclickbait_df.sample(frac=1).sample(frac=1).sample(n=18000)\n",
    "\n",
    "\n",
    "dataframe = pd.concat([ utube_clickbait_df, utube_nonclickbait_df ]).sample(frac=1).sample(frac=1)\n",
    "\n",
    "x_utube_train, x_utube_test, y_utube_train, y_utube_test = train_test_split(\n",
    "    dataframe.loc[:, dataframe.columns != \"label\"], \n",
    "    dataframe[\"label\"], \n",
    "    test_size=0.2, \n",
    "    random_state=42)\n",
    "\n",
    "# Export them:\n",
    "pickle.dump(x_utube_train, open(\"data/x-train\", \"wb\"))\n",
    "pickle.dump(y_utube_train, open(\"data/y-train\", \"wb\"))\n",
    "pickle.dump(x_utube_test, open(\"data/x-test\", \"wb\"))\n",
    "pickle.dump(y_utube_test, open(\"data/y-test\", \"wb\"))"
   ]
  },
  {
   "cell_type": "code",
   "execution_count": 17,
   "metadata": {
    "colab": {
     "base_uri": "https://localhost:8080/",
     "height": 35
    },
    "colab_type": "code",
    "executionInfo": {
     "elapsed": 16110,
     "status": "ok",
     "timestamp": 1543530148889,
     "user": {
      "displayName": "Shared 98999",
      "photoUrl": "",
      "userId": "02966646165121999534"
     },
     "user_tz": 480
    },
    "id": "9B14bt_PU_vm",
    "outputId": "4a20c7e4-0070-4c32-f9d3-4a82e1329c17"
   },
   "outputs": [
    {
     "data": {
      "text/plain": [
       "(28800, 12)"
      ]
     },
     "execution_count": 17,
     "metadata": {},
     "output_type": "execute_result"
    }
   ],
   "source": [
    "x_utube_train.shape"
   ]
  },
  {
   "cell_type": "code",
   "execution_count": 18,
   "metadata": {
    "colab": {
     "base_uri": "https://localhost:8080/",
     "height": 35
    },
    "colab_type": "code",
    "executionInfo": {
     "elapsed": 17258,
     "status": "ok",
     "timestamp": 1543530150048,
     "user": {
      "displayName": "Shared 98999",
      "photoUrl": "",
      "userId": "02966646165121999534"
     },
     "user_tz": 480
    },
    "id": "qSnYrPE8U_vp",
    "outputId": "b2822c19-7220-4aa0-908c-0ae506330963"
   },
   "outputs": [
    {
     "data": {
      "text/plain": [
       "(7200, 12)"
      ]
     },
     "execution_count": 18,
     "metadata": {},
     "output_type": "execute_result"
    }
   ],
   "source": [
    "x_utube_test.shape"
   ]
  },
  {
   "cell_type": "code",
   "execution_count": 19,
   "metadata": {
    "colab": {
     "base_uri": "https://localhost:8080/",
     "height": 5579
    },
    "colab_type": "code",
    "executionInfo": {
     "elapsed": 17250,
     "status": "ok",
     "timestamp": 1543530150050,
     "user": {
      "displayName": "Shared 98999",
      "photoUrl": "",
      "userId": "02966646165121999534"
     },
     "user_tz": 480
    },
    "id": "gNBK1l10WQxl",
    "outputId": "06e51b10-cc66-46ae-80b0-53052c2af100"
   },
   "outputs": [
    {
     "data": {
      "text/plain": [
       "<bound method NDFrame.head of                      channel_id                            channel_name  \\\n",
       "15889  UCupvZG-5ko_eiXAupbDfxWw                                     CNN   \n",
       "5635   UCjCPA4n3dkHOnAFN7koLOlA                      THAT IS IMPOSSIBLE   \n",
       "9456   UCIsbLox_y9dCIMLd8tdC6qg                             Vanity Fair   \n",
       "12362  UCsooa4yRKGN_zEE8iknghZA                            TEDEducation   \n",
       "3531   UCa2fBMGQn5Q8hiZ4MX93Tmg                           Top 10 Things   \n",
       "14933  UCjCPA4n3dkHOnAFN7koLOlA                      THAT IS IMPOSSIBLE   \n",
       "18051  UCxyD9pZDXkVOavccFGcjf-Q                                  BossDT   \n",
       "4341   UCdxi8d8qRsRyUi2ERYjYb-w                              TheRichest   \n",
       "5748   UCzVw9odnihM5PgKSv5UnDPA                                BabiezTV   \n",
       "1526   UCi7GJNg51C3jgmYTUwqoUXA                               Team Coco   \n",
       "14750  UCeY0bbntWzzVIaj2z3QigXg                                NBC News   \n",
       "14243  UCPDXXXJj9nax0fr0Wfc048g                            CollegeHumor   \n",
       "1658   UCqFzWxSCi39LnW1JKFR3efg                     Saturday Night Live   \n",
       "20829  UCX--mGSg0UwDjl7MDL8H5Jg                               BabbleTop   \n",
       "13526  UCbAlVnKhbGLK78GsSemQXxw                               Top Fives   \n",
       "15948  UC16niRr50-MSBwiO3YDb3RA                                BBC News   \n",
       "24483  UC5cNkYu8ghbZ5ZxP51_vmLw                                  MrWolf   \n",
       "12598  UCMwxcKBkxVUu4IRMvcHli8Q                             Top 5ves HD   \n",
       "4177   UCfM3zsQsOnfWNUppiycmBuw                             EminemMusic   \n",
       "6536   UCmeBJBLXcXamuPWl-0t5S4w                TOP 10 INFORMATION - TTI   \n",
       "11980  UCxyD9pZDXkVOavccFGcjf-Q                                  BossDT   \n",
       "1056   UCi6h9BahBCZl0w_xaFXdmBQ                               Pics Tube   \n",
       "13216  UCI1XS_GkLGDOgf8YLaaXNRA                               CalebCity   \n",
       "1132   UCfqFT4NWPrzpw37-v3BrzKg                     Automobile Magazine   \n",
       "2713   UCT2X19JJaJGUN7mrYuImANQ                    America's Got Talent   \n",
       "16305  UCKjU3KzdbJE1EFcHVqXC3_g                                CBC News   \n",
       "9195   UCln1E7ikUrcRAIURI0SSVlA                     Illustration Planet   \n",
       "13557  UCAq4q9UhzPS1wkpHuhph0kQ                           Top 10 Trends   \n",
       "25474  UC6slmYIj9veZc_auiX3e5Dg                               Terrifive   \n",
       "479    UCe7xSKYPYvKG0rw7e08y9Ew                            Mind Boggler   \n",
       "...                         ...                                     ...   \n",
       "24375  UCHgI_MItRWEKLX7lKz7Xn0g                          Top 5 Unknowns   \n",
       "2621   UCRyIP2oznv4UPAl1jmKS5kA                                 Top 10s   \n",
       "12343  UCFvPvwa0SwuJ230VYRMA5BQ                                 Tech HD   \n",
       "3110   UCMtFAi84ehTSYSE9XoHefig      The Late Show with Stephen Colbert   \n",
       "2901   UCHgI_MItRWEKLX7lKz7Xn0g                          Top 5 Unknowns   \n",
       "20030  UCuE0hEWZZgQOBJmFtHiRnMQ                               Your Tops   \n",
       "5093   UCjk10B-weRqeqi1ZlceQ-hA                     Discovery Education   \n",
       "7750   UCJHA_jMfCvEnv-3kRjTCQXw                     Binging with Babish   \n",
       "27393  UCX--mGSg0UwDjl7MDL8H5Jg                               BabbleTop   \n",
       "18546  UCvthuVsurPaVz2a7_4LepGg                         Family Fun Pack   \n",
       "15701  UCupvZG-5ko_eiXAupbDfxWw                                     CNN   \n",
       "14102  UC1Ydgfp2x8oLYG66KZHXs1g                                TheTalko   \n",
       "26837  UCuE0hEWZZgQOBJmFtHiRnMQ                               Your Tops   \n",
       "19713  UCKy3MG7_If9KlVuvw3rPMfw                       Tiger Productions   \n",
       "10133  UC1Ydgfp2x8oLYG66KZHXs1g                                TheTalko   \n",
       "6723   UCWJ2lWNubArHWmf3FIHbfcQ                                     NBA   \n",
       "19373  UCw7SNYrYei7F5ttQO3o-rpA                           disneychannel   \n",
       "6727   UCWJ2lWNubArHWmf3FIHbfcQ                                     NBA   \n",
       "27016  UCe7xSKYPYvKG0rw7e08y9Ew                            Mind Boggler   \n",
       "1841   UCqFzWxSCi39LnW1JKFR3efg                     Saturday Night Live   \n",
       "16898  UCbjIkNw983YutxrjM0PhSHw                       Top 10 Paranormal   \n",
       "12788  UCtg5C-d_3rPUgMaxr285mQQ                            Top Trending   \n",
       "11335  UC6slmYIj9veZc_auiX3e5Dg                               Terrifive   \n",
       "11967  UCTxMjyuDM3pKgv56yXScoSQ                              Funny Hill   \n",
       "2808   UCT2X19JJaJGUN7mrYuImANQ                    America's Got Talent   \n",
       "13729  UC3z81y3dM8Z1x1fGmUtHrFw                           Mind Oddities   \n",
       "22385  UC3z81y3dM8Z1x1fGmUtHrFw                           Mind Oddities   \n",
       "2003   UC8-Th83bH_thdKZDJCrn88g  The Tonight Show Starring Jimmy Fallon   \n",
       "15770  UC1GRwRLCIIrVumvffZTFlYQ                            TheNeilriver   \n",
       "24648  UCjCPA4n3dkHOnAFN7koLOlA                      THAT IS IMPOSSIBLE   \n",
       "\n",
       "       channel_subscribers  channel_videos  channel_views  video_comments  \\\n",
       "15889              4699459          142439     3582132423          4253.0   \n",
       "5635                434955             868      107915827          1847.0   \n",
       "9456                945571            1899      444086369            37.0   \n",
       "12362              7402523            1485     1074252571          1602.0   \n",
       "3531                424187             345       81296257            52.0   \n",
       "14933               434955             868      107915827          1938.0   \n",
       "18051                    0             302      140803047           766.0   \n",
       "4341              11751932            2550     5846181804          2528.0   \n",
       "5748               1495399             250      572342362            15.0   \n",
       "1526               6393090            7172     4866051010          1244.0   \n",
       "14750               826368           13284      368600173         19768.0   \n",
       "14243             13318846            3174     6548723845          5099.0   \n",
       "1658               6441242            6425     4751156363          2906.0   \n",
       "20829               119764             248       53525150           733.0   \n",
       "13526               242884             259      115665266            16.0   \n",
       "15948              3128320            8874      851935394          3108.0   \n",
       "24483                    0             303      270690522          2597.0   \n",
       "12598                92627             599       21478263            19.0   \n",
       "4177              30532064             105      291019369           269.0   \n",
       "6536                899318             199      271061831           253.0   \n",
       "11980                    0             302      140803047           130.0   \n",
       "1056                165423             336       50171470            26.0   \n",
       "13216               740480             104       75173890          2222.0   \n",
       "1132                 62052             293       23272655            12.0   \n",
       "2713               8339155            1802     2060132367          1152.0   \n",
       "16305               289293            9882      178182807           431.0   \n",
       "9195                 26367              36        7879068            13.0   \n",
       "13557               919011             539      196910335            83.0   \n",
       "25474               845298             225      279934037           138.0   \n",
       "479                 561592             193      127163754            95.0   \n",
       "...                    ...             ...            ...             ...   \n",
       "24375              1574414             604      307642692           953.0   \n",
       "2621               2912329             596      989236442          1883.0   \n",
       "12343               331622             703       80391709             5.0   \n",
       "3110               4840339            4232     3502602664           997.0   \n",
       "2901               1574414             604      307642692           553.0   \n",
       "20030                    0             146       33904568            23.0   \n",
       "5093                 45650             558         651308             0.0   \n",
       "7750               3151653             146      367145029          4023.0   \n",
       "27393               119764             248       53525150            99.0   \n",
       "18546              7557980            1256    10020147420          1065.0   \n",
       "15701              4699459          142439     3582132423          4994.0   \n",
       "14102              6299137            1900     2562748623           843.0   \n",
       "26837                    0             146       33904568           595.0   \n",
       "19713              2586542             378     1087265598           123.0   \n",
       "10133              6299137            1900     2562748623          2037.0   \n",
       "6723               9734907           28738     4982368107          1124.0   \n",
       "19373              2006760            2417      775955689           699.0   \n",
       "6727               9734907           28738     4982368107           779.0   \n",
       "27016               561592             193      127163754            14.0   \n",
       "1841               6441242            6425     4751156363          1757.0   \n",
       "16898                16611              27        4304157           812.0   \n",
       "12788              4173775             551     1345402610           370.0   \n",
       "11335               845298             225      279934037            90.0   \n",
       "11967               305240             123      127066355            87.0   \n",
       "2808               8339155            1802     2060132367           520.0   \n",
       "13729               312330             331       76443071            12.0   \n",
       "22385               312330             331       76443071            25.0   \n",
       "2003              17781848            4620     9678006744         12051.0   \n",
       "15770                 6302            1737        3756398             5.0   \n",
       "24648               434955             868      107915827           119.0   \n",
       "\n",
       "       video_dislikes     video_id  video_likes  \\\n",
       "15889           541.0  a6sV0dau0JI       2345.0   \n",
       "5635           1077.0  y6cXSxyUCrU       3851.0   \n",
       "9456              8.0  xYIuX3b1NGE        210.0   \n",
       "12362           640.0  STOJftffOqs      44169.0   \n",
       "3531            719.0  Rq24m0bSzB8       1082.0   \n",
       "14933           810.0  N89dmyjNKgM       7483.0   \n",
       "18051          1002.0  hWV-UOEC5lU       5676.0   \n",
       "4341           4440.0  CdfLZ6S56J0      16992.0   \n",
       "5748             76.0  zF7N0FXcp1g        230.0   \n",
       "1526            263.0  U3FirEjT8Hs      42016.0   \n",
       "14750         57523.0  -HzOqZeX3Yk      11531.0   \n",
       "14243          1848.0  4M98x-FLp7E      48863.0   \n",
       "1658          13866.0  iOGHJMS0QT0      51131.0   \n",
       "20829           287.0  PurT2NHu3vY       3130.0   \n",
       "13526            15.0  4GeKNO2TfRE         84.0   \n",
       "15948          1060.0  zGaG5-VL9P8      14056.0   \n",
       "24483          1647.0  rtBY4YMBeNY       4933.0   \n",
       "12598           153.0  P-pypjpgxT0        626.0   \n",
       "4177             29.0  brbypndEJLk       4022.0   \n",
       "6536            439.0  uQ83a5NgyhQ       4454.0   \n",
       "11980            80.0  TFeNBrcwXyo        832.0   \n",
       "1056             18.0  8HX1lnxeV4k        188.0   \n",
       "13216           280.0  GjuUqtIMsaI      38222.0   \n",
       "1132             26.0  jGtiVA5I_7s        141.0   \n",
       "2713            946.0  akSqWOhM6aA      29641.0   \n",
       "16305            40.0  qTMdH9-kmDk        999.0   \n",
       "9195              4.0  NJFIAmg-3e8        135.0   \n",
       "13557           124.0  B9Ii8tXCdzI       1333.0   \n",
       "25474           139.0  i9KWBvfm9Ns        736.0   \n",
       "479              27.0  IoKDQUi9nms        282.0   \n",
       "...               ...          ...          ...   \n",
       "24375           212.0  _OlquFq4wzY       4816.0   \n",
       "2621           1051.0  zhabCnJhrZk       2753.0   \n",
       "12343             8.0  nIz96zRzcj8         60.0   \n",
       "3110            436.0  1hkELB3yyOQ      23914.0   \n",
       "2901            202.0  Kvdz0vrKW7c       3260.0   \n",
       "20030            45.0  8GgI-_sgEn8        263.0   \n",
       "5093              0.0  0SsQllfhcRc          2.0   \n",
       "7750            371.0  DnuHzHHwqAw      43445.0   \n",
       "27393            26.0  pLbvb6LWvsg        211.0   \n",
       "18546          2066.0  KbvfsIVYcUM       9907.0   \n",
       "15701          1092.0  zmcjx4oBnBk      16668.0   \n",
       "14102           339.0  Nj_3CDfByOE       6586.0   \n",
       "26837           547.0  TKDuoy3HtYw       1106.0   \n",
       "19713           294.0  48YYTNWMiBQ       2845.0   \n",
       "10133          3208.0  NLp3welRSNw      13046.0   \n",
       "6723            257.0  wHqCUQhu3HY      13793.0   \n",
       "19373           117.0  OntNV_FufEo       3185.0   \n",
       "6727            457.0  ahzOv6x4ZHY      12199.0   \n",
       "27016            14.0  -fhglaeWoyc        196.0   \n",
       "1841           1029.0  LAQRtjvtQRo      34725.0   \n",
       "16898          1605.0  wEJBMp1Uny4       7769.0   \n",
       "12788           192.0  Dg_h91bC8pY       3843.0   \n",
       "11335            53.0  W7a44iEB5J0        677.0   \n",
       "11967           133.0  sxq7eAvuJyc        745.0   \n",
       "2808            195.0  lNuPOo5vNQo      13597.0   \n",
       "13729             5.0  oUzqXjJS4qw         78.0   \n",
       "22385             4.0  8YOFbA4E-Gc         35.0   \n",
       "2003           4809.0  FowLMu7Fd9E     165483.0   \n",
       "15770             1.0  iE9OuFl7Z4k         20.0   \n",
       "24648            28.0  yup-2o-x7Mc        205.0   \n",
       "\n",
       "                                             video_title  video_views  \\\n",
       "15889  Kavanaugh: Can't answer if President must resp...     397542.0   \n",
       "5635   Don't Watch This Video If You Have A Heart Con...     566556.0   \n",
       "9456   The Dakota: Home to John Lennon, Yoko Ono, and...     178817.0   \n",
       "12362               A brief history of goths - Dan Adams    1615773.0   \n",
       "3531   10 Secrets Flight Attendants Don't Want You To...     671511.0   \n",
       "14933                 \"They ARE NOT From Outer Space...\"     270755.0   \n",
       "18051  Unbelievable Examples Of Things Being Worn Dow...     975233.0   \n",
       "4341   LEAKED Photos North Korea Wants DELETED From T...    2160176.0   \n",
       "5748                  Funny baby FAKE falling in public!      54117.0   \n",
       "1526   Evan Peters Accidentally Showed Jessica Lange ...    2835892.0   \n",
       "14750  Alex Jones Of 'Infowars,' Conspiracy Theories,...    1730709.0   \n",
       "14243                            A \"Real\" Grad School Ad    6272517.0   \n",
       "1658                                  Porn Teacher - SNL   31496206.0   \n",
       "20829   Top 10 Georges St-Pierre Most DOMINANT Finishes!     692282.0   \n",
       "13526                     Top 5 LONGEST Trucks Ever Seen       6761.0   \n",
       "15948  CIA 'torture': Inside the 'blackout box' - BBC...    1514093.0   \n",
       "24483  5 SCP CREATURES CAUGHT ON CAMERA & SPOTTED IN ...    1235240.0   \n",
       "12598  Top 5 Best DRILL Attachments You Can Buy Now o...     200665.0   \n",
       "4177        Southpaw Trailer Featuring \"Kings Never Die\"     165415.0   \n",
       "6536   8 Coolest INSECT Robot Toys which Actually Exi...     769094.0   \n",
       "11980  Sometimes People Can Be Real A**holes 「 Funny ...     161663.0   \n",
       "1056   10+ Photos Showing Ordinary Things From Anothe...      14627.0   \n",
       "13216                             Your whole funny bone.     613002.0   \n",
       "1132   Ice racing in a 2013 Mercedes-Benz GL450 | ARO...      61880.0   \n",
       "2713   Leo Lytel: Awkward High School Student Nails H...    3337508.0   \n",
       "16305            The real story behind the Canadian Flag     111165.0   \n",
       "9195   Illustrations Showing The Daily Joys Of Couple...       7485.0   \n",
       "13557        10 Most Inappropriate Moments In Kids Shows      41659.0   \n",
       "25474     5 SHOCKING Predictions Of Nostradamus For 2018      40667.0   \n",
       "479                         5 Real Vampires From History      35934.0   \n",
       "...                                                  ...          ...   \n",
       "24375                  5 Most RUTHLESS Internet Maniacs!     308050.0   \n",
       "2621                     10 Worst Bullfighting Accidents    2479917.0   \n",
       "12343              5 Amazing Lighters You Can BUY Online       3335.0   \n",
       "3110        John Mulaney Has A Picture Of A Ghost, Maybe    1582530.0   \n",
       "2901   5 Creepy Voodoo & Witchcraft Stories (Creepypa...     416253.0   \n",
       "20030  5 TRANSFORMERS CAUGHT ON CAMERA & SPOTTED IN R...      50254.0   \n",
       "5093   Discovery Education Assessment: Diving Into De...        402.0   \n",
       "7750   Binging with Babish: Beignets from Chef (and P...    1594830.0   \n",
       "27393                        GORDON RAMSAY FULL BIO 2018      32979.0   \n",
       "18546                Family Fun Pack Easter Special 2015   10542669.0   \n",
       "15701  Officer brought to tears recounting school sho...    1572296.0   \n",
       "14102          10 People Who Were Trending For No Reason     458301.0   \n",
       "26837   5 KIRBY CAUGHT ON CAMERA & SPOTTED IN REAL LIFE!     194114.0   \n",
       "19713  CAMELS / FERRETS / WHALES - You have NO IDEA H...     445680.0   \n",
       "10133  Why Hollywood Won't Cast This Harry Potter Act...    1544984.0   \n",
       "6723   Russell Westbrook TOP 28 Dunks To Celebrate Hi...    1714951.0   \n",
       "19373              Go ⏳ | Freaky Friday | Disney Channel     302009.0   \n",
       "6727            50 Best Plays From the 2018 NBA Playoffs    1603724.0   \n",
       "27016  Top 5 Mysterious Creatures That Washed Up On B...      20272.0   \n",
       "1841   Weekend Update: Stefon on St. Patrick's Day - SNL    3407686.0   \n",
       "16898  10 Bizarre Videos. Superhumans, Teleportations...    1194596.0   \n",
       "12788             10 Most Brilliant Criminals In History     555159.0   \n",
       "11335  10 Most Disturbing Selfies With Creepy Backsto...      31923.0   \n",
       "11967        Top 10 the worst railways in the world 🛤️🚂🚞     368427.0   \n",
       "2808   AGT's Talent University: Darci Lynne Teaches V...     757195.0   \n",
       "13729            Six Mind Hacks to Boost Your Creativity       3455.0   \n",
       "22385  Are you a Genius? ▶ 90% of People Fail this Test!       4451.0   \n",
       "2003   Jimmy Fallon vs Justin Bieber (Late Night With...   18117348.0   \n",
       "15770                       God Ganesha Appearing In Sky       1524.0   \n",
       "24648  SCARY! The Vector Conspiracy And Flat Earth? R...       8729.0   \n",
       "\n",
       "                                   video_title_tokenized  \n",
       "15889  [kavanaugh, can, answer, if, presid, must, res...  \n",
       "5635   [don, watch, thi, video, if, you, have, heart,...  \n",
       "9456   [dakota, home, john, lennon, yoko, ono, and, m...  \n",
       "12362                  [brief, histori, goth, dan, adam]  \n",
       "3531   [10, secret, flight, attend, don, want, you, k...  \n",
       "14933                      [thei, ar, not, outer, space]  \n",
       "18051  [unbeliev, exampl, thing, worn, down, over, ti...  \n",
       "4341   [leak, photo, north, korea, want, delet, inter...  \n",
       "5748                   [funni, babi, fake, fall, public]  \n",
       "1526   [evan, peter, accident, show, jessica, lang, h...  \n",
       "14750  [alex, jone, infowar, conspiraci, theori, and,...  \n",
       "14243                           [real, grad, school, ad]  \n",
       "1658                                [porn, teacher, snl]  \n",
       "20829   [top, 10, georg, st, pierr, most, domin, finish]  \n",
       "13526                  [top, longest, truck, ever, seen]  \n",
       "15948      [cia, tortur, insid, blackout, box, bbc, new]  \n",
       "24483   [scp, creatur, caught, camera, spot, real, life]  \n",
       "12598  [top, best, drill, attach, you, can, bui, now,...  \n",
       "4177       [southpaw, trailer, featur, king, never, die]  \n",
       "6536   [coolest, insect, robot, toi, which, actual, e...  \n",
       "11980    [sometim, peopl, can, real, hole, funni, photo]  \n",
       "1056   [10, photo, show, ordinari, thing, anoth, pers...  \n",
       "13216                         [your, whole, funni, bone]  \n",
       "1132   [ic, race, 2013, merced, benz, gl450, around, ...  \n",
       "2713   [leo, lytel, awkward, high, school, student, n...  \n",
       "16305              [real, stori, behind, canadian, flag]  \n",
       "9195            [illustr, show, daili, joi, coupl, life]  \n",
       "13557          [10, most, inappropri, moment, kid, show]  \n",
       "25474                 [shock, predict, nostradamu, 2018]  \n",
       "479                              [real, vampir, histori]  \n",
       "...                                                  ...  \n",
       "24375                 [most, ruthless, internet, maniac]  \n",
       "2621                       [10, worst, bullfight, accid]  \n",
       "12343              [amaz, lighter, you, can, bui, onlin]  \n",
       "3110            [john, mulanei, ha, pictur, ghost, mayb]  \n",
       "2901    [creepi, voodoo, witchcraft, stori, creepypasta]  \n",
       "20030      [transform, caught, camera, spot, real, life]  \n",
       "5093   [discoveri, educ, assess, dive, into, detail, ...  \n",
       "7750   [bing, babish, beignet, chef, and, princess, a...  \n",
       "27393                  [gordon, ramsai, full, bio, 2018]  \n",
       "18546         [famili, fun, pack, easter, special, 2015]  \n",
       "15701     [offic, brought, tear, recount, school, shoot]  \n",
       "14102               [10, peopl, were, trend, no, reason]  \n",
       "26837          [kirbi, caught, camera, spot, real, life]  \n",
       "19713  [camel, ferret, whale, you, have, no, idea, ho...  \n",
       "10133  [why, hollywood, won, cast, thi, harri, potter...  \n",
       "6723   [russel, westbrook, top, 28, dunk, celebr, hi,...  \n",
       "19373              [go, freaki, fridai, disnei, channel]  \n",
       "6727                [50, best, plai, 2018, nba, playoff]  \n",
       "27016           [top, mysteri, creatur, wash, up, beach]  \n",
       "1841     [weekend, updat, stefon, st, patrick, dai, snl]  \n",
       "16898  [10, bizarr, video, superhuman, teleport, time...  \n",
       "12788             [10, most, brilliant, crimin, histori]  \n",
       "11335      [10, most, disturb, selfi, creepi, backstori]  \n",
       "11967          [top, 10, worst, railwai, world, 🛤, 🚂, 🚞]  \n",
       "2808   [agt, talent, univers, darci, lynn, teach, ven...  \n",
       "13729            [six, mind, hack, boost, your, creativ]  \n",
       "22385       [ar, you, geniu, 90, peopl, fail, thi, test]  \n",
       "2003   [jimmi, fallon, vs, justin, bieber, late, nigh...  \n",
       "15770                        [god, ganesha, appear, sky]  \n",
       "24648  [scari, vector, conspiraci, and, flat, earth, ...  \n",
       "\n",
       "[7200 rows x 12 columns]>"
      ]
     },
     "execution_count": 19,
     "metadata": {},
     "output_type": "execute_result"
    }
   ],
   "source": [
    "x_utube_test.head"
   ]
  },
  {
   "cell_type": "code",
   "execution_count": 20,
   "metadata": {
    "colab": {},
    "colab_type": "code",
    "id": "fNjI5rR_U_vv"
   },
   "outputs": [],
   "source": [
    "import numpy as np\n",
    "\n",
    "\n",
    "def average_embedding(tokens, word2vec, na_vector=None):\n",
    "\n",
    "    vectors = list()\n",
    "\n",
    "    for token in tokens:\n",
    "        if token in word2vec:\n",
    "            vectors.append(word2vec[token])\n",
    "\n",
    "    if len(vectors) == 0 and na_vector is not None:\n",
    "        vectors.append(na_vector)\n",
    "\n",
    "    return np.mean(np.array(vectors), axis=0)"
   ]
  },
  {
   "cell_type": "code",
   "execution_count": 21,
   "metadata": {
    "colab": {},
    "colab_type": "code",
    "id": "eJcz3BbpU_v0"
   },
   "outputs": [],
   "source": [
    "import gensim\n",
    "\n",
    "\n",
    "documents = x_utube_train[\"video_title_tokenized\"]\n",
    "word2vec = gensim.models.Word2Vec(\n",
    "    documents,\n",
    "    size=25,\n",
    "    window=20,\n",
    "    min_count=1,\n",
    "    workers=2\n",
    ")\n",
    "word2vec.train(documents, total_examples=len(documents), epochs=30)\n",
    "\n",
    "# Export it:\n",
    "pickle.dump(word2vec, open(\"data/word2vec\", \"wb\"))"
   ]
  },
  {
   "cell_type": "code",
   "execution_count": 22,
   "metadata": {
    "colab": {
     "base_uri": "https://localhost:8080/",
     "height": 143
    },
    "colab_type": "code",
    "executionInfo": {
     "elapsed": 38427,
     "status": "ok",
     "timestamp": 1543530171237,
     "user": {
      "displayName": "Shared 98999",
      "photoUrl": "",
      "userId": "02966646165121999534"
     },
     "user_tz": 480
    },
    "id": "WkeGtfCQU_v5",
    "outputId": "87e8c10d-466f-49d8-adae-ef2ef717ed2c"
   },
   "outputs": [
    {
     "name": "stderr",
     "output_type": "stream",
     "text": [
      "C:\\Users\\Abhishek\\Anaconda3\\lib\\site-packages\\ipykernel_launcher.py:9: DeprecationWarning: Call to deprecated `__contains__` (Method will be removed in 4.0.0, use self.wv.__contains__() instead).\n",
      "  if __name__ == '__main__':\n",
      "C:\\Users\\Abhishek\\Anaconda3\\lib\\site-packages\\ipykernel_launcher.py:10: DeprecationWarning: Call to deprecated `__getitem__` (Method will be removed in 4.0.0, use self.wv.__getitem__() instead).\n",
      "  # Remove the CWD from sys.path while we load stuff.\n",
      "C:\\Users\\Abhishek\\Anaconda3\\lib\\site-packages\\numpy\\core\\fromnumeric.py:2920: RuntimeWarning: Mean of empty slice.\n",
      "  out=out, **kwargs)\n"
     ]
    }
   ],
   "source": [
    "titles_embeddings = x_utube_train[\"video_title_tokenized\"].apply(average_embedding, word2vec=word2vec)\n",
    "utube_training_set = pd.concat(\n",
    "    [\n",
    "        x_utube_train[[\"video_views\", \"video_likes\", \"video_dislikes\", \"video_comments\"]],\n",
    "        titles_embeddings.apply(pd.Series)\n",
    "    ], axis=1)\n",
    "\n",
    "utube_training_set[\"label\"] = y_utube_train\n",
    "utube_training_set = utube_training_set.dropna()\n",
    "\n",
    "mean_title_embedding = titles_embeddings.dropna().mean(axis=0)\n",
    "pickle.dump(mean_title_embedding, open(\"mean-title-embedding\", \"wb\"))\n",
    "\n",
    "titles_embeddings = x_utube_test[\"video_title_tokenized\"].apply(average_embedding, word2vec=word2vec, na_vector=mean_title_embedding)\n",
    "utube_testing_set = pd.concat(\n",
    "    [\n",
    "        x_utube_test[[\"video_views\", \"video_likes\", \"video_dislikes\", \"video_comments\"]],\n",
    "        titles_embeddings.apply(pd.Series)\n",
    "    ], axis=1)\n",
    "utube_testing_set[\"label\"] = y_utube_test"
   ]
  },
  {
   "cell_type": "code",
   "execution_count": 23,
   "metadata": {
    "colab": {
     "base_uri": "https://localhost:8080/",
     "height": 35
    },
    "colab_type": "code",
    "executionInfo": {
     "elapsed": 38423,
     "status": "ok",
     "timestamp": 1543530171239,
     "user": {
      "displayName": "Shared 98999",
      "photoUrl": "",
      "userId": "02966646165121999534"
     },
     "user_tz": 480
    },
    "id": "B2trY3KZU_v8",
    "outputId": "a2d28f4c-def8-4a5c-d22b-42f2134c256b"
   },
   "outputs": [
    {
     "data": {
      "text/plain": [
       "(28798, 30)"
      ]
     },
     "execution_count": 23,
     "metadata": {},
     "output_type": "execute_result"
    }
   ],
   "source": [
    "utube_training_set.shape"
   ]
  },
  {
   "cell_type": "code",
   "execution_count": 24,
   "metadata": {
    "colab": {
     "base_uri": "https://localhost:8080/",
     "height": 35
    },
    "colab_type": "code",
    "executionInfo": {
     "elapsed": 38415,
     "status": "ok",
     "timestamp": 1543530171239,
     "user": {
      "displayName": "Shared 98999",
      "photoUrl": "",
      "userId": "02966646165121999534"
     },
     "user_tz": 480
    },
    "id": "JJSpHhSlU_wA",
    "outputId": "634ff382-52a0-4214-863e-cd6021527b3c"
   },
   "outputs": [
    {
     "data": {
      "text/plain": [
       "(7200, 30)"
      ]
     },
     "execution_count": 24,
     "metadata": {},
     "output_type": "execute_result"
    }
   ],
   "source": [
    "utube_testing_set.shape"
   ]
  },
  {
   "cell_type": "markdown",
   "metadata": {
    "colab_type": "text",
    "id": "ivEQHzOvU_wD"
   },
   "source": [
    "Considering the logarithm of the video metadata (views, likes, dislikes, comments) to have a normal distribution of values:"
   ]
  },
  {
   "cell_type": "code",
   "execution_count": 25,
   "metadata": {
    "colab": {},
    "colab_type": "code",
    "id": "-g6Ad83eU_wE"
   },
   "outputs": [],
   "source": [
    "utube_training_set[[\"video_views\", \"video_likes\", \"video_dislikes\", \"video_comments\"]] = utube_training_set[[\"video_views\", \"video_likes\", \"video_dislikes\", \"video_comments\"]].apply(np.log)\n",
    "utube_testing_set[[\"video_views\", \"video_likes\", \"video_dislikes\", \"video_comments\"]] = utube_testing_set[[\"video_views\", \"video_likes\", \"video_dislikes\", \"video_comments\"]].apply(np.log)\n",
    "\n",
    "\n",
    "utube_training_set = utube_training_set.replace(-np.inf, 0)\n",
    "utube_testing_set = utube_testing_set.replace(-np.inf, 0)"
   ]
  },
  {
   "cell_type": "code",
   "execution_count": 26,
   "metadata": {
    "colab": {},
    "colab_type": "code",
    "id": "yuM90sqKU_wG"
   },
   "outputs": [],
   "source": [
    "train_labels = utube_training_set[\"label\"]\n",
    "test_labels = utube_testing_set[\"label\"]\n",
    "\n",
    "utube_training_set = utube_training_set.drop(columns=[\"label\"])\n",
    "utube_testing_set = utube_testing_set.drop(columns=[\"label\"])\n",
    "\n",
    "pickle.dump(utube_training_set[\"video_views\"].mean(), open(\"data/mean-log-video-views\", \"wb\"))\n",
    "pickle.dump(utube_training_set[\"video_likes\"].mean(), open(\"data/mean-log-video-likes\", \"wb\"))\n",
    "pickle.dump(utube_training_set[\"video_dislikes\"].mean(), open(\"data/mean-log-video-dislikes\", \"wb\"))\n",
    "pickle.dump(utube_training_set[\"video_comments\"].mean(), open(\"data/mean-log-video-comments\", \"wb\"))"
   ]
  },
  {
   "cell_type": "code",
   "execution_count": 27,
   "metadata": {
    "colab": {},
    "colab_type": "code",
    "id": "kdzYIYb5U_wK"
   },
   "outputs": [],
   "source": [
    "from sklearn import preprocessing\n",
    "\n",
    "\n",
    "min_max_scaler = preprocessing.MinMaxScaler()\n",
    "min_max_scaler.fit(utube_training_set)\n",
    "utube_training_set = pd.DataFrame(min_max_scaler.transform(utube_training_set), columns=utube_training_set.columns)\n",
    "utube_testing_set = pd.DataFrame(min_max_scaler.transform(utube_testing_set), columns=utube_testing_set.columns)\n",
    "\n",
    "# Export it:\n",
    "pickle.dump(min_max_scaler, open(\"data/min-max-scaler\", \"wb\"))"
   ]
  },
  {
   "cell_type": "code",
   "execution_count": 28,
   "metadata": {
    "colab": {},
    "colab_type": "code",
    "id": "nhdWWnstU_wM",
    "scrolled": false
   },
   "outputs": [],
   "source": [
    "from sklearn.svm import SVC\n",
    "from sklearn.model_selection import GridSearchCV\n",
    "from sklearn.metrics import classification_report\n",
    "from sklearn.metrics import accuracy_score\n",
    "from sklearn.metrics import roc_auc_score\n",
    "from sklearn.metrics import f1_score"
   ]
  },
  {
   "cell_type": "code",
   "execution_count": 29,
   "metadata": {
    "colab": {
     "base_uri": "https://localhost:8080/"
    },
    "colab_type": "code",
    "id": "jkaQJnOQU_wQ",
    "outputId": "5f545e7e-f96d-4886-a6bd-b3fbdc2f8416"
   },
   "outputs": [
    {
     "name": "stdout",
     "output_type": "stream",
     "text": [
      "Best SVM with:\n",
      "Performance on the test set (7200 samples):\n",
      "\tAccuracy Score: 0.50875\n",
      "\tArea under ROC curve: 0.5065606234197219\n",
      "\tClassification report (on the test set):\n",
      "             precision    recall  f1-score   support\n",
      "\n",
      "          0       0.51      1.00      0.67      3616\n",
      "          1       0.94      0.01      0.03      3584\n",
      "\n",
      "avg / total       0.72      0.51      0.35      7200\n",
      "\n"
     ]
    }
   ],
   "source": [
    "svm_params = [\n",
    "    { \"C\": np.linspace(1, 25, 10), \"gamma\": np.linspace(1, 5, 10) },\n",
    "]\n",
    "\n",
    "filename = 'data/svm'\n",
    "grid_search_cv = pickle.load(open(filename, 'rb'))\n",
    "    \n",
    "\n",
    "predictions = grid_search_cv.predict(utube_testing_set)\n",
    "\n",
    "print(\"Best SVM with:\")\n",
    "print(\"Performance on the test set (%d samples):\" % len(utube_testing_set))\n",
    "print(\"\\tAccuracy Score:\", accuracy_score(test_labels, predictions))\n",
    "print(\"\\tArea under ROC curve:\", roc_auc_score(test_labels, predictions))\n",
    "print(\"\\tClassification report (on the test set):\")\n",
    "print(classification_report(test_labels, predictions))\n",
    "\n",
    "#pickle.dump(grid_search_cv.best_estimator_, open(\"data/svm\", \"wb\"))"
   ]
  },
  {
   "cell_type": "code",
   "execution_count": 0,
   "metadata": {
    "colab": {},
    "colab_type": "code",
    "id": "9EjOEovnkX7L"
   },
   "outputs": [],
   "source": []
  }
 ],
 "metadata": {
  "accelerator": "GPU",
  "colab": {
   "name": "01_Youtube Clickbait Detector - Training.ipynb",
   "provenance": [],
   "version": "0.3.2"
  },
  "kernelspec": {
   "display_name": "Python 3",
   "language": "python",
   "name": "python3"
  },
  "language_info": {
   "codemirror_mode": {
    "name": "ipython",
    "version": 3
   },
   "file_extension": ".py",
   "mimetype": "text/x-python",
   "name": "python",
   "nbconvert_exporter": "python",
   "pygments_lexer": "ipython3",
   "version": "3.6.6"
  }
 },
 "nbformat": 4,
 "nbformat_minor": 1
}
