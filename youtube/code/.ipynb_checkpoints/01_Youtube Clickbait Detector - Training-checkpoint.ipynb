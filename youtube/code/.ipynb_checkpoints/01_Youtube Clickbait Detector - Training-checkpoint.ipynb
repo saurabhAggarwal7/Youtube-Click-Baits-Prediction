{
 "cells": [
  {
   "cell_type": "markdown",
   "metadata": {
    "colab_type": "text",
    "id": "XJZE3evSU_vK"
   },
   "source": [
    "Importing the clickbait and non-clickbait sets:"
   ]
  },
  {
   "cell_type": "code",
   "execution_count": 39,
   "metadata": {
    "colab": {
     "base_uri": "https://localhost:8080/",
     "height": 35
    },
    "colab_type": "code",
    "executionInfo": {
     "elapsed": 622,
     "status": "ok",
     "timestamp": 1543530133327,
     "user": {
      "displayName": "Shared 98999",
      "photoUrl": "",
      "userId": "02966646165121999534"
     },
     "user_tz": 480
    },
    "id": "6nysKpMOU_vN",
    "outputId": "2cea96d2-3695-4946-f01d-03da1741f2b5"
   },
   "outputs": [
    {
     "name": "stdout",
     "output_type": "stream",
     "text": [
      "Drive already mounted at /content/drive/; to attempt to forcibly remount, call drive.mount(\"/content/drive/\", force_remount=True).\n"
     ]
    }
   ],
   "source": [
    "from google.colab import drive\n",
    "drive.mount('/content/drive/')"
   ]
  },
  {
   "cell_type": "code",
   "execution_count": 40,
   "metadata": {
    "colab": {
     "base_uri": "https://localhost:8080/",
     "height": 495
    },
    "colab_type": "code",
    "executionInfo": {
     "elapsed": 11537,
     "status": "ok",
     "timestamp": 1543530144263,
     "user": {
      "displayName": "Shared 98999",
      "photoUrl": "",
      "userId": "02966646165121999534"
     },
     "user_tz": 480
    },
    "id": "2lOVKQiTVMPz",
    "outputId": "93fabbc6-d903-4792-db71-05f20ebbf03b"
   },
   "outputs": [
    {
     "name": "stdout",
     "output_type": "stream",
     "text": [
      "Requirement already satisfied: argparse in /usr/local/lib/python3.6/dist-packages (1.4.0)\n",
      "Collecting re\n",
      "\u001b[31m  Could not find a version that satisfies the requirement re (from versions: )\u001b[0m\n",
      "\u001b[31mNo matching distribution found for re\u001b[0m\n",
      "Requirement already satisfied: emoji in /usr/local/lib/python3.6/dist-packages (0.5.1)\n",
      "Collecting pickle\n",
      "\u001b[31m  Could not find a version that satisfies the requirement pickle (from versions: )\u001b[0m\n",
      "\u001b[31mNo matching distribution found for pickle\u001b[0m\n",
      "Requirement already satisfied: gensim in /usr/local/lib/python3.6/dist-packages (3.6.0)\n",
      "Requirement already satisfied: smart-open>=1.2.1 in /usr/local/lib/python3.6/dist-packages (from gensim) (1.7.1)\n",
      "Requirement already satisfied: six>=1.5.0 in /usr/local/lib/python3.6/dist-packages (from gensim) (1.11.0)\n",
      "Requirement already satisfied: numpy>=1.11.3 in /usr/local/lib/python3.6/dist-packages (from gensim) (1.14.6)\n",
      "Requirement already satisfied: scipy>=0.18.1 in /usr/local/lib/python3.6/dist-packages (from gensim) (1.1.0)\n",
      "Requirement already satisfied: boto>=2.32 in /usr/local/lib/python3.6/dist-packages (from smart-open>=1.2.1->gensim) (2.49.0)\n",
      "Requirement already satisfied: boto3 in /usr/local/lib/python3.6/dist-packages (from smart-open>=1.2.1->gensim) (1.9.56)\n",
      "Requirement already satisfied: requests in /usr/local/lib/python3.6/dist-packages (from smart-open>=1.2.1->gensim) (2.18.4)\n",
      "Requirement already satisfied: bz2file in /usr/local/lib/python3.6/dist-packages (from smart-open>=1.2.1->gensim) (0.98)\n",
      "Requirement already satisfied: s3transfer<0.2.0,>=0.1.10 in /usr/local/lib/python3.6/dist-packages (from boto3->smart-open>=1.2.1->gensim) (0.1.13)\n",
      "Requirement already satisfied: jmespath<1.0.0,>=0.7.1 in /usr/local/lib/python3.6/dist-packages (from boto3->smart-open>=1.2.1->gensim) (0.9.3)\n",
      "Requirement already satisfied: botocore<1.13.0,>=1.12.56 in /usr/local/lib/python3.6/dist-packages (from boto3->smart-open>=1.2.1->gensim) (1.12.56)\n",
      "Requirement already satisfied: urllib3<1.23,>=1.21.1 in /usr/local/lib/python3.6/dist-packages (from requests->smart-open>=1.2.1->gensim) (1.22)\n",
      "Requirement already satisfied: chardet<3.1.0,>=3.0.2 in /usr/local/lib/python3.6/dist-packages (from requests->smart-open>=1.2.1->gensim) (3.0.4)\n",
      "Requirement already satisfied: idna<2.7,>=2.5 in /usr/local/lib/python3.6/dist-packages (from requests->smart-open>=1.2.1->gensim) (2.6)\n",
      "Requirement already satisfied: certifi>=2017.4.17 in /usr/local/lib/python3.6/dist-packages (from requests->smart-open>=1.2.1->gensim) (2018.10.15)\n",
      "Requirement already satisfied: python-dateutil<3.0.0,>=2.1; python_version >= \"2.7\" in /usr/local/lib/python3.6/dist-packages (from botocore<1.13.0,>=1.12.56->boto3->smart-open>=1.2.1->gensim) (2.5.3)\n",
      "Requirement already satisfied: docutils>=0.10 in /usr/local/lib/python3.6/dist-packages (from botocore<1.13.0,>=1.12.56->boto3->smart-open>=1.2.1->gensim) (0.14)\n"
     ]
    }
   ],
   "source": [
    "!pip install argparse\n",
    "!pip install re\n",
    "!pip install emoji\n",
    "!pip install pickle\n",
    "!pip install gensim"
   ]
  },
  {
   "cell_type": "code",
   "execution_count": 0,
   "metadata": {
    "colab": {},
    "colab_type": "code",
    "id": "-tbwgAgTVRhA"
   },
   "outputs": [],
   "source": [
    "import pickle\n",
    "\n",
    "\n",
    "youtube_click_bait_df = pickle.load(open(\"/content/drive/My Drive/youtube/data/clickbait-df\", \"rb\"))\n",
    "youtube_nonbait_data_df = pickle.load(open(\"/content/drive/My Drive/youtube/data/non-clickbait-df\", \"rb\"))"
   ]
  },
  {
   "cell_type": "code",
   "execution_count": 42,
   "metadata": {
    "colab": {
     "base_uri": "https://localhost:8080/",
     "height": 35
    },
    "colab_type": "code",
    "executionInfo": {
     "elapsed": 11525,
     "status": "ok",
     "timestamp": 1543530144267,
     "user": {
      "displayName": "Shared 98999",
      "photoUrl": "",
      "userId": "02966646165121999534"
     },
     "user_tz": 480
    },
    "id": "OkHGL4mvU_vP",
    "outputId": "112f2f54-11bc-456f-8056-1834340fcd8e"
   },
   "outputs": [
    {
     "data": {
      "text/plain": [
       "(18317, 11)"
      ]
     },
     "execution_count": 42,
     "metadata": {
      "tags": []
     },
     "output_type": "execute_result"
    }
   ],
   "source": [
    "youtube_click_bait_df.shape"
   ]
  },
  {
   "cell_type": "code",
   "execution_count": 43,
   "metadata": {
    "colab": {
     "base_uri": "https://localhost:8080/",
     "height": 35
    },
    "colab_type": "code",
    "executionInfo": {
     "elapsed": 11516,
     "status": "ok",
     "timestamp": 1543530144268,
     "user": {
      "displayName": "Shared 98999",
      "photoUrl": "",
      "userId": "02966646165121999534"
     },
     "user_tz": 480
    },
    "id": "qDp-aWhlU_vV",
    "outputId": "7d73604b-036f-4432-eb78-9f25f08ca996"
   },
   "outputs": [
    {
     "data": {
      "text/plain": [
       "(19080, 11)"
      ]
     },
     "execution_count": 43,
     "metadata": {
      "tags": []
     },
     "output_type": "execute_result"
    }
   ],
   "source": [
    "youtube_nonbait_data_df.shape"
   ]
  },
  {
   "cell_type": "markdown",
   "metadata": {
    "colab_type": "text",
    "id": "SCyJWT8yU_va"
   },
   "source": [
    "Defining a custom tokenizer:"
   ]
  },
  {
   "cell_type": "code",
   "execution_count": 0,
   "metadata": {
    "colab": {},
    "colab_type": "code",
    "id": "OH225GROU_vb"
   },
   "outputs": [],
   "source": [
    "import re\n",
    "import emoji\n",
    "from gensim.parsing.preprocessing import *\n",
    "\n",
    "\n",
    "def tokenize(string):\n",
    "\n",
    "    \"\"\" Tokenizes a string.\n",
    "    \"\"\"\n",
    "    stop_words = [\n",
    "        \"about\", \"an\", \"are\", \"as\", \"at\", \"be\", \"by\", \"com\", \"for\", \"from\", \"in\", \"is\", \"it\", \"of\", \"on\", \"or\", \"that\",\n",
    "        \"the\", \"this\", \"to\", \"was\", \"what\", \"when\", \"where\", \"who\", \"with\", \"the\", \"www\"\n",
    "    ]\n",
    "\n",
    "    string = strip_short(\n",
    "        strip_multiple_whitespaces(\n",
    "            strip_punctuation(\n",
    "                split_alphanum(string))),\n",
    "        minsize=2)\n",
    "    \n",
    "    # Parse emojis:\n",
    "    emojis = [ c for c in string if c in emoji.UNICODE_EMOJI ]\n",
    "    \n",
    "    # Remove every non-word character and stem each word:\n",
    "    string = stem_text(re.sub(r\"[^\\w\\s,]\", \"\", string))\n",
    "    \n",
    "    # List of stems and emojis:\n",
    "    tokens = string.split() + emojis\n",
    "    \n",
    "    for stop_word in stop_words:\n",
    "        try:\n",
    "            tokens.remove(stop_word)\n",
    "        except:\n",
    "            pass\n",
    "\n",
    "    return tokens"
   ]
  },
  {
   "cell_type": "markdown",
   "metadata": {
    "colab_type": "text",
    "id": "FSDvQkwoU_ve"
   },
   "source": [
    "Add a column containing the tokenized titles:"
   ]
  },
  {
   "cell_type": "code",
   "execution_count": 0,
   "metadata": {
    "colab": {},
    "colab_type": "code",
    "id": "obVIBf8jU_vf"
   },
   "outputs": [],
   "source": [
    "youtube_click_bait_df[\"video_title_tokenized\"] = youtube_click_bait_df[\"video_title\"].apply(tokenize)\n",
    "youtube_nonbait_data_df[\"video_title_tokenized\"] = youtube_nonbait_data_df[\"video_title\"].apply(tokenize)"
   ]
  },
  {
   "cell_type": "markdown",
   "metadata": {
    "colab_type": "text",
    "id": "y4UaKFrTU_vh"
   },
   "source": [
    "Splitting the data into train and test set:"
   ]
  },
  {
   "cell_type": "code",
   "execution_count": 0,
   "metadata": {
    "colab": {},
    "colab_type": "code",
    "id": "kmNsnTtLU_vi"
   },
   "outputs": [],
   "source": [
    "import pandas as pd\n",
    "from sklearn.model_selection import train_test_split\n",
    "\n",
    "\n",
    "youtube_click_bait_df[\"label\"] = 1\n",
    "youtube_nonbait_data_df[\"label\"] = 0\n",
    "\n",
    "# Consider the same number of samples (18000) for each class:\n",
    "youtube_click_bait_df = youtube_click_bait_df.sample(frac=1).sample(frac=1).sample(n=18000)\n",
    "youtube_nonbait_data_df = youtube_nonbait_data_df.sample(frac=1).sample(frac=1).sample(n=18000)\n",
    "\n",
    "# Build the dataframe:\n",
    "dataframe = pd.concat([ youtube_click_bait_df, youtube_nonbait_data_df ]).sample(frac=1).sample(frac=1)\n",
    "\n",
    "x_youtube_train, X_test, y_train, youtube_y_testing = train_test_split(\n",
    "    dataframe.loc[:, dataframe.columns != \"label\"], \n",
    "    dataframe[\"label\"], \n",
    "    test_size=0.2, \n",
    "    random_state=42)\n",
    "\n",
    "# Export them:\n",
    "pickle.dump(x_youtube_train, open(\"/content/drive/My Drive/youtube/data/x-train\", \"wb\"))\n",
    "pickle.dump(y_train, open(\"/content/drive/My Drive/youtube/data/y-train\", \"wb\"))\n",
    "pickle.dump(X_test, open(\"/content/drive/My Drive/youtube/data/x-test\", \"wb\"))\n",
    "pickle.dump(youtube_y_testing, open(\"/content/drive/My Drive/youtube/data/y-test\", \"wb\"))"
   ]
  },
  {
   "cell_type": "code",
   "execution_count": 47,
   "metadata": {
    "colab": {
     "base_uri": "https://localhost:8080/",
     "height": 35
    },
    "colab_type": "code",
    "executionInfo": {
     "elapsed": 16110,
     "status": "ok",
     "timestamp": 1543530148889,
     "user": {
      "displayName": "Shared 98999",
      "photoUrl": "",
      "userId": "02966646165121999534"
     },
     "user_tz": 480
    },
    "id": "9B14bt_PU_vm",
    "outputId": "4a20c7e4-0070-4c32-f9d3-4a82e1329c17"
   },
   "outputs": [
    {
     "data": {
      "text/plain": [
       "(28800, 12)"
      ]
     },
     "execution_count": 47,
     "metadata": {
      "tags": []
     },
     "output_type": "execute_result"
    }
   ],
   "source": [
    "x_youtube_train.shape"
   ]
  },
  {
   "cell_type": "code",
   "execution_count": 48,
   "metadata": {
    "colab": {
     "base_uri": "https://localhost:8080/",
     "height": 35
    },
    "colab_type": "code",
    "executionInfo": {
     "elapsed": 17258,
     "status": "ok",
     "timestamp": 1543530150048,
     "user": {
      "displayName": "Shared 98999",
      "photoUrl": "",
      "userId": "02966646165121999534"
     },
     "user_tz": 480
    },
    "id": "qSnYrPE8U_vp",
    "outputId": "b2822c19-7220-4aa0-908c-0ae506330963"
   },
   "outputs": [
    {
     "data": {
      "text/plain": [
       "(7200, 12)"
      ]
     },
     "execution_count": 48,
     "metadata": {
      "tags": []
     },
     "output_type": "execute_result"
    }
   ],
   "source": [
    "X_test.shape"
   ]
  },
  {
   "cell_type": "code",
   "execution_count": 49,
   "metadata": {
    "colab": {
     "base_uri": "https://localhost:8080/",
     "height": 5579
    },
    "colab_type": "code",
    "executionInfo": {
     "elapsed": 17250,
     "status": "ok",
     "timestamp": 1543530150050,
     "user": {
      "displayName": "Shared 98999",
      "photoUrl": "",
      "userId": "02966646165121999534"
     },
     "user_tz": 480
    },
    "id": "gNBK1l10WQxl",
    "outputId": "06e51b10-cc66-46ae-80b0-53052c2af100"
   },
   "outputs": [
    {
     "data": {
      "text/plain": [
       "<bound method NDFrame.head of                      channel_id               channel_name  \\\n",
       "7818   UCpprBWvibvmOlI8yJOEAAjA           Cooking with Dog   \n",
       "9322   UCIsbLox_y9dCIMLd8tdC6qg                Vanity Fair   \n",
       "15456  UCXIJgqnII2ZOINSWNOGFThA                   Fox News   \n",
       "22874  UC4eR_m8Fl0bVB7P_BEzX3fw                     ApexTV   \n",
       "7047   UCRijo3ddMTht_IHyNSNXpNQ               Dude Perfect   \n",
       "15409  UC6H07z6zAwbHRl4Lbl0GSsw                   TechZone   \n",
       "1747   UCqFzWxSCi39LnW1JKFR3efg        Saturday Night Live   \n",
       "8499   UCPsil91i8gN0XLIbwl3vqsw              Lonely Planet   \n",
       "10976  UCJx5KP-pCUmL9eZUv-mIcNw               GameTrailers   \n",
       "19436  UCw7SNYrYei7F5ttQO3o-rpA              disneychannel   \n",
       "6426   UCDVYQ4Zhbm3S2dlz7P1GBDg                        NFL   \n",
       "23410  UCTTQAOiR_0DuyQPZ6Dg-LHA                  Talltanic   \n",
       "6699   UCfM-x2VfpYypdekWVJKHN9g                 Funny Life   \n",
       "1886   UC1WihDhMU5xLAdQ7-on3u0w          NEWS & CONSPIRACY   \n",
       "7071   UCRijo3ddMTht_IHyNSNXpNQ               Dude Perfect   \n",
       "7665   UClW44KG_EKETupl-3BlnLSQ                     Top15s   \n",
       "3924   UCRyIP2oznv4UPAl1jmKS5kA                    Top 10s   \n",
       "16353  UCBINYCmwE29fBXCpUI8DgTA           MostAmazingTop10   \n",
       "6809   UCWJ2lWNubArHWmf3FIHbfcQ                        NBA   \n",
       "12167  UCsXVk37bltHxD1rDPwtNM8Q  Kurzesagt - In a Nutshell   \n",
       "3320   UCttFk8-Nysnyw59aNlWOWzw           7-Second Riddles   \n",
       "8551   UCPsil91i8gN0XLIbwl3vqsw              Lonely Planet   \n",
       "872    UCT0TLAhWpz2dHniqGJQopPw        FOURWHEELER NETWORK   \n",
       "19021  UC5M_h2S8Ldoc9M6f7B-_m6A                Nickelodeon   \n",
       "3271   UCc2a-EQcBbsHgSMTsr983gA                 Odd Me Not   \n",
       "8684   UCGaOvAFinZ7BCN_FDmw74fQ                    Expedia   \n",
       "26540  UCa03bf8gAS2EtffptV-_jfA             Top 10 Archive   \n",
       "15057  UCttFk8-Nysnyw59aNlWOWzw           7-Second Riddles   \n",
       "7963   UCpprBWvibvmOlI8yJOEAAjA           Cooking with Dog   \n",
       "9149   UCRXiA3h1no_PFkb1JCP0yMA                      Vogue   \n",
       "...                         ...                        ...   \n",
       "5131   UC4qGmRZ7aLOLfVsSdj5Se2A                  TheThings   \n",
       "8446   UCTTQAOiR_0DuyQPZ6Dg-LHA                  Talltanic   \n",
       "19973  UC_IRYSp4auq7hKLvziWVH6w                DisneyPixar   \n",
       "20639  UCi8e0iOVk1fEOogdfu4YgfA        Movieclips Trailers   \n",
       "4794   UCqOoboPm3uhY_YXhvhmL-WA                  Discovery   \n",
       "19956  UC_IRYSp4auq7hKLvziWVH6w                DisneyPixar   \n",
       "9636   UCk1IXTn78FtPm8p6ytbvwog                  Style.com   \n",
       "9230   UCRXiA3h1no_PFkb1JCP0yMA                      Vogue   \n",
       "6605   UCDVYQ4Zhbm3S2dlz7P1GBDg                        NFL   \n",
       "17901  UC6fa3nIeDvpEA0dMckNLvvQ                 Trend Land   \n",
       "15513  UCWv2oOr-VnM5z7-Eb_NlWfA                   FunnyPig   \n",
       "4423   UCkEBDbzLyH-LbB2FgMoSMaQ              Animal Planet   \n",
       "6795   UC-OSpcKMXooOzqzwRN3TmZw                  The Filmy   \n",
       "17264  UCzVw9odnihM5PgKSv5UnDPA                   BabiezTV   \n",
       "17287  UC4eR_m8Fl0bVB7P_BEzX3fw                     ApexTV   \n",
       "1725   UCqFzWxSCi39LnW1JKFR3efg        Saturday Night Live   \n",
       "8857   UCtg5C-d_3rPUgMaxr285mQQ               Top Trending   \n",
       "27113  UC9obdDRxQkmn_4YpcBMTYLw           Tiger FunnyWorks   \n",
       "6311   UCwNqHDsnBCKT-olwJwIFyfg                  FoxSports   \n",
       "18806  UC1Ydgfp2x8oLYG66KZHXs1g                   TheTalko   \n",
       "16312  UCKjU3KzdbJE1EFcHVqXC3_g                   CBC News   \n",
       "19775  UC4rlAVgAK0SGk-yTfe48Qpw                BRIGHT SIDE   \n",
       "3796   UCE-J6hbhHnVJyASqIYcZaAw                  TheTrendy   \n",
       "4681   UCkEBDbzLyH-LbB2FgMoSMaQ              Animal Planet   \n",
       "1999   UClW44KG_EKETupl-3BlnLSQ                     Top15s   \n",
       "24067  UCa2fBMGQn5Q8hiZ4MX93Tmg              Top 10 Things   \n",
       "10654  UCAq4q9UhzPS1wkpHuhph0kQ              Top 10 Trends   \n",
       "21107  UCz1GPotHecuLngiLuY739QQ         Rotten Tomatoes TV   \n",
       "8181   UCtinbF-Q-fVthA0qrFQTgXQ               CaseyNeistat   \n",
       "4377   UC9obdDRxQkmn_4YpcBMTYLw           Tiger FunnyWorks   \n",
       "\n",
       "       channel_subscribers  channel_videos  channel_views  video_comments  \\\n",
       "7818               1424711             337      187476726          1182.0   \n",
       "9322                945571            1899      444086369           224.0   \n",
       "15456              1687059           52562     1101932076          1677.0   \n",
       "22874               707445             505      177048645           176.0   \n",
       "7047              34524210             185     6103331121          4832.0   \n",
       "15409              1097419             307      221992625            78.0   \n",
       "1747               6441242            6425     4751156363          3497.0   \n",
       "8499                175286             664       25241263             1.0   \n",
       "10976               741205           12087      317487228            34.0   \n",
       "19436              2006760            2417      775955689           251.0   \n",
       "6426               3590430           14038     2186807560          3357.0   \n",
       "23410              2085542            1112      790617598           554.0   \n",
       "6699                118070            1055       97904754            16.0   \n",
       "1886                     0             267       54849105           356.0   \n",
       "7071              34524210             185     6103331121           658.0   \n",
       "7665               2682709             281      579286484          4166.0   \n",
       "3924               2912329             596      989236442            92.0   \n",
       "16353              4129592            2065     1243277026          4347.0   \n",
       "6809               9734907           28738     4982368107           455.0   \n",
       "12167              6948951              85      476401656         15399.0   \n",
       "3320               1293822             908      354362738          1639.0   \n",
       "8551                175286             664       25241263             8.0   \n",
       "872                  57138             301        8165424            19.0   \n",
       "19021              4501624            2867     2671265094          1243.0   \n",
       "3271                     0             669       85608817           254.0   \n",
       "8684                545153             625      189682628           807.0   \n",
       "26540              1301772             723      391177742          1098.0   \n",
       "15057              1293822             908      354362738         17472.0   \n",
       "7963               1424711             337      187476726           651.0   \n",
       "9149               3401293            2035      742988344           152.0   \n",
       "...                    ...             ...            ...             ...   \n",
       "5131               3100335             837      739474321          1655.0   \n",
       "8446               2085542            1112      790617598          3820.0   \n",
       "19973              1638553             494      998554295            62.0   \n",
       "20639             12731498            7528     9838126265          5935.0   \n",
       "4794               3096192            7702     1455566930          2288.0   \n",
       "19956              1638553             494      998554295           197.0   \n",
       "9636                 93326            1574       25539129             3.0   \n",
       "9230               3401293            2035      742988344            51.0   \n",
       "6605               3590430           14038     2186807560           199.0   \n",
       "17901                70270              37       33771163           107.0   \n",
       "15513               392961             734      226228566           357.0   \n",
       "4423               2902723            4737     1544673998          1432.0   \n",
       "6795                 70701             132       36625122             2.0   \n",
       "17264              1495399             250      572342362            18.0   \n",
       "17287               707445             505      177048645           167.0   \n",
       "1725               6441242            6425     4751156363          2541.0   \n",
       "8857               4173775             551     1345402610           614.0   \n",
       "27113              1005061             414      551069192            65.0   \n",
       "6311                515371            3313      365998393            11.0   \n",
       "18806              6299137            1900     2562748623           905.0   \n",
       "16312               289293            9882      178182807           394.0   \n",
       "19775             16128550            1519     3052207379          5739.0   \n",
       "3796                924704             278      233852460          2508.0   \n",
       "4681               2902723            4737     1544673998            55.0   \n",
       "1999               2682709             281      579286484         72444.0   \n",
       "24067               424187             345       81296257             4.0   \n",
       "10654               919011             539      196910335          4340.0   \n",
       "21107                35149            2309       10372900             0.0   \n",
       "8181              10322565             962     2364470729         34966.0   \n",
       "4377               1005061             414      551069192            44.0   \n",
       "\n",
       "       video_dislikes     video_id  video_likes  \\\n",
       "7818            206.0  klFyrnrUSck      12393.0   \n",
       "9322            203.0  tQIeBPjEiys       3040.0   \n",
       "15456          1159.0  s-sZ01g6eYw       1314.0   \n",
       "22874           127.0  wz4FHBe5CqE        198.0   \n",
       "7047           2293.0  TWRzm2c-v4Q      71144.0   \n",
       "15409           141.0  WVtb_1JLBoQ       1336.0   \n",
       "1747           2989.0  ZBPt335vcAQ      42255.0   \n",
       "8499              9.0  GfyYOXcHkTY        104.0   \n",
       "10976            15.0  fmNm16XCZB4        169.0   \n",
       "19436            26.0  O_BL_eOfFvs        562.0   \n",
       "6426            686.0  yKbJKJ_whHY       7918.0   \n",
       "23410           344.0  QF3_0YDQ2jM       3333.0   \n",
       "6699              4.0  Emch7oBaXYM        103.0   \n",
       "1886            445.0  vVUJIm-DGR0       1338.0   \n",
       "7071            242.0  cVayU1d1u-A       8707.0   \n",
       "7665           1796.0  zy194bjEh78      37584.0   \n",
       "3924             32.0  gvVWLpd5l9U        566.0   \n",
       "16353           325.0  2Qi54PVRdDg      13225.0   \n",
       "6809             79.0  VlK_9_JWXoY       4976.0   \n",
       "12167          4415.0  AQPlREDW-Ro      78719.0   \n",
       "3320            524.0  j7U9V__YBrA       2412.0   \n",
       "8551              3.0  _CQ_xcUt4wI         66.0   \n",
       "872              10.0  PcCl2skLCyA        201.0   \n",
       "19021          2864.0  2fsjWrQKtGg      14328.0   \n",
       "3271            627.0  n0yTP6shjJU       4043.0   \n",
       "8684            405.0  ieWNzZPfZzk       6690.0   \n",
       "26540           516.0  w8IJZRGcoz8      10043.0   \n",
       "15057         13947.0  Fft0riFONGI      68972.0   \n",
       "7963            118.0  F98ZtxrFKB8       3564.0   \n",
       "9149            290.0  IqhRs4JUWJs       2865.0   \n",
       "...               ...          ...          ...   \n",
       "5131            579.0  CUhN7Qcj_yU       3865.0   \n",
       "8446           4909.0  PzPW5msevJ0      18461.0   \n",
       "19973           115.0  Fg-qz68R8Kk        932.0   \n",
       "20639          3305.0  MxCRgtdAuBo      50738.0   \n",
       "4794            197.0  K8_N-xjytcU       4650.0   \n",
       "19956            88.0  n323WknTym8        886.0   \n",
       "9636              1.0  Y40YImw628Q         28.0   \n",
       "9230             23.0  AO_G8ylF0m4       1829.0   \n",
       "6605            361.0  33-zBb987mo       2435.0   \n",
       "17901           189.0  itRv8lRwzt4        999.0   \n",
       "15513            25.0  umeqTXZNzMQ        476.0   \n",
       "4423           2468.0  3HSj7vt_BW8      58815.0   \n",
       "6795             11.0  KOE8JP5iivA         26.0   \n",
       "17264            56.0  tnf5ghtCGnU        194.0   \n",
       "17287            83.0  ES5jQYZYE1c        450.0   \n",
       "1725           1288.0  kELDEdMbkyg      64943.0   \n",
       "8857            509.0  -bG_LuUKbMQ       3207.0   \n",
       "27113            88.0  i7fkrD_WDQ4        727.0   \n",
       "6311             14.0  vxcllUaio9I        380.0   \n",
       "18806           877.0  CTDoMe7W6kc      12867.0   \n",
       "16312            23.0  Kd1CGQ36tTU       1352.0   \n",
       "19775         11630.0  ihsTONOFVic     165412.0   \n",
       "3796           2760.0  xYSEiSwI5pk      33257.0   \n",
       "4681             63.0  Z_5E4f2xVPg        930.0   \n",
       "1999           5078.0  M0iwwvIgrjM     161631.0   \n",
       "24067             8.0  oT9PwbL_7Go         51.0   \n",
       "10654         10148.0  pkTGNsX1wWE      41894.0   \n",
       "21107             0.0  WHKWGAr2U1o         40.0   \n",
       "8181          12502.0  I897Lk4bJkE     116417.0   \n",
       "4377             14.0  mADIe97PbNk        313.0   \n",
       "\n",
       "                                             video_title  video_views  \\\n",
       "7818   How to Make Katsudon (Pork Tonkatsu Rice Bowl ...    1513552.0   \n",
       "9322       Puppies Test The New Star Wars BB-8 Droid Toy     904103.0   \n",
       "15456      Meryl Streep attacks Melania and Ivanka Trump     301523.0   \n",
       "22874      Alien Caught on Tape in Mexico (SLENDER MAN?)      98043.0   \n",
       "7047                  Olympic Trick Shots | Dude Perfect   12393393.0   \n",
       "15409                     10 COOL GADGETS YOU SHOULD BUY     130306.0   \n",
       "1747                         Lester Holt Cold Open - SNL    5735458.0   \n",
       "8499   Vancouver City Guide - Lonely Planet travel vi...      29818.0   \n",
       "10976                      Control Gamescom 2018 Trailer      16973.0   \n",
       "19436  Keep A Lid On It | Mack Chat: S2, Episode 23 |...      29059.0   \n",
       "6426   Seahawks vs. Cowboys | NFL Week 16 Game Highli...    1293485.0   \n",
       "23410                    12 Bizarre Discoveries In India     614154.0   \n",
       "6699   15+ Funny Valentine’s Day Gifts And Cards By P...       9090.0   \n",
       "1886   Mysterious Real Creatures Make You Dont Believ...     435996.0   \n",
       "7071                      Dude Perfect Panda | Episode 3    2006285.0   \n",
       "7665           Top 15 Scariest Things Found In The Woods    1755177.0   \n",
       "3924   HERE'S WHY THERE ARE GIANT BARCODES ACROSS THE...      20434.0   \n",
       "16353      Top 10 Scariest Sounds Ever Recorded - Part 3     809501.0   \n",
       "6809   Stephen Curry Catches Fire to Clinch Series in...     614480.0   \n",
       "12167              Iraq Explained -- ISIS, Syria and War    5786902.0   \n",
       "3320      Brain Games To Test How Attentive Your Mind Is     275492.0   \n",
       "8551   Coron to Calauit, the Philippines - Lonely Pla...      18553.0   \n",
       "872                 FWTV: Ultimate Adventure 2006 Part 2      91513.0   \n",
       "19021  TMNT Summer Shorts:  ‘Flora the Fedora’ | Teen...   10167301.0   \n",
       "3271   Funny Cartoons That Will Make You Laugh Then C...     821179.0   \n",
       "8684      Rio de Janeiro Vacation Travel Guide | Expedia    1583283.0   \n",
       "26540                Top 10 MYTHICAL BATTLES OF ALL TIME    1571596.0   \n",
       "15057  14 BRAIN TEASERS THAT'LL FORCE YOUR BRAIN TO WORK    9424062.0   \n",
       "7963                            Aji Sashimi アジの刺身 作り方レシピ     308855.0   \n",
       "9149   Lily Aldridge Takes You on a 360° Tour of Her ...     393389.0   \n",
       "...                                                  ...          ...   \n",
       "5131   10 DARK THEORIES About The INCREDIBLES That Wi...     601870.0   \n",
       "8446      15 Recent Science Discoveries You Wont Believe    4197170.0   \n",
       "19973  Disney Pixar Cars | The Die-cast Series Ep. 4 ...     639140.0   \n",
       "20639  Focus Official Trailer #1 (2015) - Will Smith,...   24710489.0   \n",
       "4794                 MythBusters - Drowning Cockroaches?    1314600.0   \n",
       "19956  Disney•Pixar's BRAVE - \"One Family\" Extended T...     744965.0   \n",
       "9636    Kate Young Pt. 4: Kate Young & the Sweater Dress      34350.0   \n",
       "9230            Supermodels Reveal Their Denim Obsession     131100.0   \n",
       "6605            Top 4 Fails (Week 5) | Shek Report | NFL     267412.0   \n",
       "17901               you won't believe this pool exists..     184521.0   \n",
       "15513  You Had One Job And Failed Miserably (Compilat...      42945.0   \n",
       "4423                           Dwight Howard Gets Busted    9572774.0   \n",
       "6795   10 Things You Missed in Dusk Till Dawn By Zayn...       1910.0   \n",
       "17264  LAUGHTER is GUARANTEED! - FUNNY KIDS VIDEOS yo...      32459.0   \n",
       "17287    5 Ogres Caught on Camera & Spotted in Real Life      26062.0   \n",
       "1725                       Another Close Encounter - SNL    6606406.0   \n",
       "8857                      Top 10 Rappers That Went Broke     479674.0   \n",
       "27113  TOP FUNNY HIGHLIGHTS of CATS - Hilarious CAT c...      92937.0   \n",
       "6311      NASCAR Race Hub: Clint Bowyer's Home Town Tour      60080.0   \n",
       "18806         10 Dark Secrets From New York Fashion Week    1583587.0   \n",
       "16312  VE Day | Canadian Veterans Celebrated in The N...     101109.0   \n",
       "19775  The Secret for the Perfect Sleep and Easy Morn...    6650345.0   \n",
       "3796             10 Cartoon Animals Reimagined as People    2603564.0   \n",
       "4681          Huge Marbled Eel Is Monster of Fijian Lore     251516.0   \n",
       "1999   Top 15 Scary Ghost Sightings Caught On Camera ...    5785162.0   \n",
       "24067          10 Greatest Magic Tricks Finally Revealed       3627.0   \n",
       "10654  10 'Rick and Morty' Theories That Will Blow Yo...    2328983.0   \n",
       "21107  HUMANS Season 3 Featurette | 'Meet Stanley, An...       2517.0   \n",
       "8181                               everyone is mad at me    3868653.0   \n",
       "4377   Dogs go crazy after bathing - Funny dog compil...      27447.0   \n",
       "\n",
       "                                   video_title_tokenized  \n",
       "7818   [how, make, katsudon, pork, tonkatsu, rice, bo...  \n",
       "9322       [puppi, test, new, star, war, bb, droid, toi]  \n",
       "15456  [meryl, streep, attack, melania, and, ivanka, ...  \n",
       "22874        [alien, caught, tape, mexico, slender, man]  \n",
       "7047                 [olymp, trick, shot, dude, perfect]  \n",
       "15409               [10, cool, gadget, you, should, bui]  \n",
       "1747                     [lester, holt, cold, open, snl]  \n",
       "8499   [vancouv, citi, guid, lone, planet, travel, vi...  \n",
       "10976                 [control, gamescom, 2018, trailer]  \n",
       "19436  [keep, lid, mack, chat, s2, episod, 23, disnei...  \n",
       "6426   [seahawk, vs, cowboi, nfl, week, 16, game, hig...  \n",
       "23410                     [12, bizarr, discoveri, india]  \n",
       "6699   [15, funni, valentin, dai, gift, and, card, pe...  \n",
       "1886   [mysteri, real, creatur, make, you, dont, beli...  \n",
       "7071                      [dude, perfect, panda, episod]  \n",
       "7665             [top, 15, scariest, thing, found, wood]  \n",
       "3924   [here, why, there, ar, giant, barcod, across, ...  \n",
       "16353     [top, 10, scariest, sound, ever, record, part]  \n",
       "6809   [stephen, curri, catch, fire, clinch, seri, me...  \n",
       "12167              [iraq, explain, isi, syria, and, war]  \n",
       "3320        [brain, game, test, how, attent, your, mind]  \n",
       "8551   [coron, calauit, philippin, lone, planet, trav...  \n",
       "872                  [fwtv, ultim, adventur, 2006, part]  \n",
       "19021  [tmnt, summer, short, flora, fedora, teenag, m...  \n",
       "3271   [funni, cartoon, will, make, you, laugh, then,...  \n",
       "8684    [rio, de, janeiro, vacat, travel, guid, expedia]  \n",
       "26540                [top, 10, mythic, battl, all, time]  \n",
       "15057   [14, brain, teaser, ll, forc, your, brain, work]  \n",
       "7963                       [aji, sashimi, アジの刺身, 作り方レシピ]  \n",
       "9149   [lili, aldridg, take, you, 360, tour, her, clo...  \n",
       "...                                                  ...  \n",
       "5131    [10, dark, theori, incred, will, chang, everyth]  \n",
       "8446   [15, recent, scienc, discoveri, you, wont, bel...  \n",
       "19973  [disnei, pixar, car, die, cast, seri, ep, take...  \n",
       "20639  [focu, offici, trailer, 2015, will, smith, mar...  \n",
       "4794                        [mythbust, drown, cockroach]  \n",
       "19956     [disneypixar, brave, famili, extend, tv, spot]  \n",
       "9636      [kate, young, pt, kate, young, sweater, dress]  \n",
       "9230          [supermodel, reveal, their, denim, obsess]  \n",
       "6605                [top, fail, week, shek, report, nfl]  \n",
       "17901               [you, won, believ, thi, pool, exist]  \n",
       "15513          [you, had, job, and, fail, miser, compil]  \n",
       "4423                         [dwight, howard, get, bust]  \n",
       "6795   [10, thing, you, miss, dusk, till, dawn, zayn,...  \n",
       "17264  [laughter, guarante, funni, kid, video, you, l...  \n",
       "17287            [ogr, caught, camera, spot, real, life]  \n",
       "1725                        [anoth, close, encount, snl]  \n",
       "8857                      [top, 10, rapper, went, broke]  \n",
       "27113  [top, funni, highlight, cat, hilari, cat, compil]  \n",
       "6311   [nascar, race, hub, clint, bowyer, home, town,...  \n",
       "18806       [10, dark, secret, new, york, fashion, week]  \n",
       "16312   [ve, dai, canadian, veteran, celebr, netherland]  \n",
       "19775  [secret, perfect, sleep, and, easi, morn, wake...  \n",
       "3796                [10, cartoon, anim, reimagin, peopl]  \n",
       "4681           [huge, marbl, eel, monster, fijian, lore]  \n",
       "1999   [top, 15, scari, ghost, sight, caught, camera,...  \n",
       "24067        [10, greatest, magic, trick, final, reveal]  \n",
       "10654  [10, rick, and, morti, theori, will, blow, you...  \n",
       "21107  [human, season, featurett, meet, stanlei, anat...  \n",
       "8181                                  [everyon, mad, me]  \n",
       "4377   [dog, go, crazi, after, bath, funni, dog, compil]  \n",
       "\n",
       "[7200 rows x 12 columns]>"
      ]
     },
     "execution_count": 49,
     "metadata": {
      "tags": []
     },
     "output_type": "execute_result"
    }
   ],
   "source": [
    "X_test.head"
   ]
  },
  {
   "cell_type": "markdown",
   "metadata": {
    "colab_type": "text",
    "id": "AOuAkMFJU_vt"
   },
   "source": [
    "Defining an embedding function:"
   ]
  },
  {
   "cell_type": "code",
   "execution_count": 0,
   "metadata": {
    "colab": {},
    "colab_type": "code",
    "id": "fNjI5rR_U_vv"
   },
   "outputs": [],
   "source": [
    "import numpy as np\n",
    "\n",
    "\n",
    "def average_embedding(tokens, word2vec, na_vector=None):\n",
    "\n",
    "    vectors = list()\n",
    "\n",
    "    for token in tokens:\n",
    "        if token in word2vec:\n",
    "            vectors.append(word2vec[token])\n",
    "\n",
    "    if len(vectors) == 0 and na_vector is not None:\n",
    "        vectors.append(na_vector)\n",
    "\n",
    "    return np.mean(np.array(vectors), axis=0)"
   ]
  },
  {
   "cell_type": "markdown",
   "metadata": {
    "colab_type": "text",
    "id": "HiAReLAuU_vz"
   },
   "source": [
    "Training a Word2Vec model onto the train set:"
   ]
  },
  {
   "cell_type": "code",
   "execution_count": 0,
   "metadata": {
    "colab": {},
    "colab_type": "code",
    "id": "eJcz3BbpU_v0"
   },
   "outputs": [],
   "source": [
    "import gensim\n",
    "\n",
    "\n",
    "documents = x_youtube_train[\"video_title_tokenized\"]\n",
    "word2vec = gensim.models.Word2Vec(\n",
    "    documents,\n",
    "    size=25,\n",
    "    window=20,\n",
    "    min_count=1,\n",
    "    workers=2\n",
    ")\n",
    "word2vec.train(documents, total_examples=len(documents), epochs=30)\n",
    "\n",
    "# Export it:\n",
    "pickle.dump(word2vec, open(\"/content/drive/My Drive/youtube/data/word2vec\", \"wb\"))"
   ]
  },
  {
   "cell_type": "markdown",
   "metadata": {
    "colab_type": "text",
    "id": "nr8pRX5QU_v4"
   },
   "source": [
    "Get the titles embeddings:"
   ]
  },
  {
   "cell_type": "code",
   "execution_count": 52,
   "metadata": {
    "colab": {
     "base_uri": "https://localhost:8080/",
     "height": 143
    },
    "colab_type": "code",
    "executionInfo": {
     "elapsed": 38427,
     "status": "ok",
     "timestamp": 1543530171237,
     "user": {
      "displayName": "Shared 98999",
      "photoUrl": "",
      "userId": "02966646165121999534"
     },
     "user_tz": 480
    },
    "id": "WkeGtfCQU_v5",
    "outputId": "87e8c10d-466f-49d8-adae-ef2ef717ed2c"
   },
   "outputs": [
    {
     "name": "stderr",
     "output_type": "stream",
     "text": [
      "/usr/local/lib/python3.6/dist-packages/ipykernel_launcher.py:9: DeprecationWarning: Call to deprecated `__contains__` (Method will be removed in 4.0.0, use self.wv.__contains__() instead).\n",
      "  if __name__ == '__main__':\n",
      "/usr/local/lib/python3.6/dist-packages/ipykernel_launcher.py:10: DeprecationWarning: Call to deprecated `__getitem__` (Method will be removed in 4.0.0, use self.wv.__getitem__() instead).\n",
      "  # Remove the CWD from sys.path while we load stuff.\n",
      "/usr/local/lib/python3.6/dist-packages/numpy/core/fromnumeric.py:2957: RuntimeWarning: Mean of empty slice.\n",
      "  out=out, **kwargs)\n"
     ]
    }
   ],
   "source": [
    "titles_embeddings = x_youtube_train[\"video_title_tokenized\"].apply(average_embedding, word2vec=word2vec)\n",
    "youtube_training_set = pd.concat(\n",
    "    [\n",
    "        x_youtube_train[[\"video_views\", \"video_likes\", \"video_dislikes\", \"video_comments\"]],\n",
    "        titles_embeddings.apply(pd.Series)\n",
    "    ], axis=1)\n",
    "# Add the label column:\n",
    "youtube_training_set[\"label\"] = y_train\n",
    "# Drop rows with missing values:\n",
    "youtube_training_set = youtube_training_set.dropna()\n",
    "\n",
    "# Compute the average vector representation on the train set, and export it:\n",
    "mean_title_embedding = titles_embeddings.dropna().mean(axis=0)\n",
    "pickle.dump(mean_title_embedding, open(\"mean-title-embedding\", \"wb\"))\n",
    "\n",
    "# For the test set use the mean title embedding computed on the train set:\n",
    "titles_embeddings = X_test[\"video_title_tokenized\"].apply(average_embedding, word2vec=word2vec, na_vector=mean_title_embedding)\n",
    "youtube_test_data_set = pd.concat(\n",
    "    [\n",
    "        X_test[[\"video_views\", \"video_likes\", \"video_dislikes\", \"video_comments\"]],\n",
    "        titles_embeddings.apply(pd.Series)\n",
    "    ], axis=1)\n",
    "youtube_test_data_set[\"label\"] = youtube_y_testing"
   ]
  },
  {
   "cell_type": "code",
   "execution_count": 53,
   "metadata": {
    "colab": {
     "base_uri": "https://localhost:8080/",
     "height": 35
    },
    "colab_type": "code",
    "executionInfo": {
     "elapsed": 38423,
     "status": "ok",
     "timestamp": 1543530171239,
     "user": {
      "displayName": "Shared 98999",
      "photoUrl": "",
      "userId": "02966646165121999534"
     },
     "user_tz": 480
    },
    "id": "B2trY3KZU_v8",
    "outputId": "a2d28f4c-def8-4a5c-d22b-42f2134c256b"
   },
   "outputs": [
    {
     "data": {
      "text/plain": [
       "(28798, 30)"
      ]
     },
     "execution_count": 53,
     "metadata": {
      "tags": []
     },
     "output_type": "execute_result"
    }
   ],
   "source": [
    "youtube_training_set.shape"
   ]
  },
  {
   "cell_type": "code",
   "execution_count": 54,
   "metadata": {
    "colab": {
     "base_uri": "https://localhost:8080/",
     "height": 35
    },
    "colab_type": "code",
    "executionInfo": {
     "elapsed": 38415,
     "status": "ok",
     "timestamp": 1543530171239,
     "user": {
      "displayName": "Shared 98999",
      "photoUrl": "",
      "userId": "02966646165121999534"
     },
     "user_tz": 480
    },
    "id": "JJSpHhSlU_wA",
    "outputId": "634ff382-52a0-4214-863e-cd6021527b3c"
   },
   "outputs": [
    {
     "data": {
      "text/plain": [
       "(7200, 30)"
      ]
     },
     "execution_count": 54,
     "metadata": {
      "tags": []
     },
     "output_type": "execute_result"
    }
   ],
   "source": [
    "youtube_test_data_set.shape"
   ]
  },
  {
   "cell_type": "markdown",
   "metadata": {
    "colab_type": "text",
    "id": "ivEQHzOvU_wD"
   },
   "source": [
    "Considering the logarithm of the video metadata (views, likes, dislikes, comments) to have a normal distribution of values:"
   ]
  },
  {
   "cell_type": "code",
   "execution_count": 0,
   "metadata": {
    "colab": {},
    "colab_type": "code",
    "id": "-g6Ad83eU_wE"
   },
   "outputs": [],
   "source": [
    "# Compute the logarithm of the video metadata (likes, dislikes, comments, views)\n",
    "youtube_training_set[[\"video_views\", \"video_likes\", \"video_dislikes\", \"video_comments\"]] = youtube_training_set[[\"video_views\", \"video_likes\", \"video_dislikes\", \"video_comments\"]].apply(np.log)\n",
    "youtube_test_data_set[[\"video_views\", \"video_likes\", \"video_dislikes\", \"video_comments\"]] = youtube_test_data_set[[\"video_views\", \"video_likes\", \"video_dislikes\", \"video_comments\"]].apply(np.log)\n",
    "\n",
    "# Replace any -Inf value with 0:\n",
    "youtube_training_set = youtube_training_set.replace(-np.inf, 0)\n",
    "youtube_test_data_set = youtube_test_data_set.replace(-np.inf, 0)"
   ]
  },
  {
   "cell_type": "code",
   "execution_count": 0,
   "metadata": {
    "colab": {},
    "colab_type": "code",
    "id": "yuM90sqKU_wG"
   },
   "outputs": [],
   "source": [
    "# Remove the label columns:\n",
    "train_labels = youtube_training_set[\"label\"]\n",
    "test_labels = youtube_test_data_set[\"label\"]\n",
    "\n",
    "youtube_training_set = youtube_training_set.drop(columns=[\"label\"])\n",
    "youtube_test_data_set = youtube_test_data_set.drop(columns=[\"label\"])\n",
    "\n",
    "# Export the mean values of the metadata in the train set:\n",
    "pickle.dump(youtube_training_set[\"video_views\"].mean(), open(\"/content/drive/My Drive/youtube/data/mean-log-video-views\", \"wb\"))\n",
    "pickle.dump(youtube_training_set[\"video_likes\"].mean(), open(\"/content/drive/My Drive/youtube/data/mean-log-video-likes\", \"wb\"))\n",
    "pickle.dump(youtube_training_set[\"video_dislikes\"].mean(), open(\"/content/drive/My Drive/youtube/data/mean-log-video-dislikes\", \"wb\"))\n",
    "pickle.dump(youtube_training_set[\"video_comments\"].mean(), open(\"/content/drive/My Drive/youtube/data/mean-log-video-comments\", \"wb\"))"
   ]
  },
  {
   "cell_type": "markdown",
   "metadata": {
    "colab_type": "text",
    "id": "7ky6qCctU_wJ"
   },
   "source": [
    "Train a min-max scaler onto the train set and apply it onto both sets:"
   ]
  },
  {
   "cell_type": "code",
   "execution_count": 0,
   "metadata": {
    "colab": {},
    "colab_type": "code",
    "id": "kdzYIYb5U_wK"
   },
   "outputs": [],
   "source": [
    "from sklearn import preprocessing\n",
    "\n",
    "\n",
    "min_max_scaler = preprocessing.MinMaxScaler()\n",
    "min_max_scaler.fit(youtube_training_set)\n",
    "youtube_training_set = pd.DataFrame(min_max_scaler.transform(youtube_training_set), columns=youtube_training_set.columns)\n",
    "youtube_test_data_set = pd.DataFrame(min_max_scaler.transform(youtube_test_data_set), columns=youtube_test_data_set.columns)\n",
    "\n",
    "# Export it:\n",
    "pickle.dump(min_max_scaler, open(\"/content/drive/My Drive/youtube/data/min-max-scaler\", \"wb\"))"
   ]
  },
  {
   "cell_type": "markdown",
   "metadata": {
    "colab_type": "text",
    "id": "MLu-VfObU_wL"
   },
   "source": [
    "Train a SVM model:"
   ]
  },
  {
   "cell_type": "code",
   "execution_count": 0,
   "metadata": {
    "colab": {},
    "colab_type": "code",
    "id": "nhdWWnstU_wM",
    "scrolled": false
   },
   "outputs": [],
   "source": [
    "from sklearn.svm import SVC\n",
    "from sklearn.model_selection import GridSearchCV\n",
    "from sklearn.metrics import classification_report\n",
    "from sklearn.metrics import accuracy_score\n",
    "from sklearn.metrics import roc_auc_score\n",
    "from sklearn.metrics import f1_score\n",
    "\n",
    "\n",
    "\n",
    "\n",
    "\n"
   ]
  },
  {
   "cell_type": "code",
   "execution_count": 0,
   "metadata": {
    "colab": {
     "base_uri": "https://localhost:8080/"
    },
    "colab_type": "code",
    "id": "jkaQJnOQU_wQ",
    "outputId": "5f545e7e-f96d-4886-a6bd-b3fbdc2f8416"
   },
   "outputs": [
    {
     "name": "stdout",
     "output_type": "stream",
     "text": [
      "Fitting 3 folds for each of 100 candidates, totalling 300 fits\n",
      "[CV] C=1.0, gamma=1.0 ................................................\n",
      "[CV] C=1.0, gamma=1.0 ................................................\n"
     ]
    }
   ],
   "source": [
    "svm_params = [\n",
    "    { \"C\": np.linspace(1, 25, 10), \"gamma\": np.linspace(1, 5, 10) },\n",
    "]\n",
    "\n",
    "grid_search_cv = GridSearchCV(estimator=SVC(kernel=\"rbf\"), param_grid=svm_params, n_jobs=2, scoring=\"f1\", verbose=3)\n",
    "grid_search_cv.fit(youtube_training_set, train_labels)\n",
    "\n",
    "predictions = grid_search_cv.predict(youtube_test_data_set)\n",
    "\n",
    "print(\"Best SVM with:\")\n",
    "print(\"\\tC:\", grid_search_cv.best_params_[\"C\"])\n",
    "print(\"\\tgamma:\", grid_search_cv.best_params_[\"gamma\"])\n",
    "print(\"\\tBest Score (F1):\", grid_search_cv.best_score_)\n",
    "print(\"Performance on the test set (%d samples):\" % len(youtube_test_data_set))\n",
    "print(\"\\tAccuracy Score:\", accuracy_score(test_labels, predictions))\n",
    "print(\"\\tArea under ROC curve:\", roc_auc_score(test_labels, predictions))\n",
    "print(\"\\tClassification report (on the test set):\")\n",
    "print(classification_report(test_labels, predictions))\n",
    "\n",
    "# Export the best estimator:\n",
    "pickle.dump(grid_search_cv.best_estimator_, open(\"/content/drive/My Drive/youtube/data/svm\", \"wb\"))"
   ]
  },
  {
   "cell_type": "code",
   "execution_count": 0,
   "metadata": {
    "colab": {},
    "colab_type": "code",
    "id": "9EjOEovnkX7L"
   },
   "outputs": [],
   "source": []
  }
 ],
 "metadata": {
  "accelerator": "GPU",
  "colab": {
   "name": "01_Youtube Clickbait Detector - Training.ipynb",
   "provenance": [],
   "version": "0.3.2"
  },
  "kernelspec": {
   "display_name": "Python 3",
   "language": "python",
   "name": "python3"
  },
  "language_info": {
   "codemirror_mode": {
    "name": "ipython",
    "version": 3
   },
   "file_extension": ".py",
   "mimetype": "text/x-python",
   "name": "python",
   "nbconvert_exporter": "python",
   "pygments_lexer": "ipython3",
   "version": "3.6.6"
  }
 },
 "nbformat": 4,
 "nbformat_minor": 1
}
