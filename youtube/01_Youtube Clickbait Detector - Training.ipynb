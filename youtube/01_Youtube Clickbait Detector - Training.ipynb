{
 "cells": [
  {
   "cell_type": "code",
   "execution_count": 52,
   "metadata": {
    "colab": {},
    "colab_type": "code",
    "id": "-tbwgAgTVRhA"
   },
   "outputs": [],
   "source": [
    "import pickle\n",
    "\n",
    "\n",
    "utube_clickbait_df = pickle.load(open(\"data/clickbait-df\", \"rb\"))\n",
    "utube_nonclickbait_df = pickle.load(open(\"data/non-clickbait-df\", \"rb\"))"
   ]
  },
  {
   "cell_type": "code",
   "execution_count": 53,
   "metadata": {},
   "outputs": [
    {
     "data": {
      "text/html": [
       "<div>\n",
       "<style scoped>\n",
       "    .dataframe tbody tr th:only-of-type {\n",
       "        vertical-align: middle;\n",
       "    }\n",
       "\n",
       "    .dataframe tbody tr th {\n",
       "        vertical-align: top;\n",
       "    }\n",
       "\n",
       "    .dataframe thead th {\n",
       "        text-align: right;\n",
       "    }\n",
       "</style>\n",
       "<table border=\"1\" class=\"dataframe\">\n",
       "  <thead>\n",
       "    <tr style=\"text-align: right;\">\n",
       "      <th></th>\n",
       "      <th>channel_id</th>\n",
       "      <th>channel_name</th>\n",
       "      <th>channel_subscribers</th>\n",
       "      <th>channel_videos</th>\n",
       "      <th>channel_views</th>\n",
       "      <th>video_comments</th>\n",
       "      <th>video_dislikes</th>\n",
       "      <th>video_id</th>\n",
       "      <th>video_likes</th>\n",
       "      <th>video_title</th>\n",
       "      <th>video_views</th>\n",
       "    </tr>\n",
       "  </thead>\n",
       "  <tbody>\n",
       "    <tr>\n",
       "      <th>11218</th>\n",
       "      <td>UC7t6FZ5U17ruEXRH1WRxcTQ</td>\n",
       "      <td>Top List</td>\n",
       "      <td>0</td>\n",
       "      <td>193</td>\n",
       "      <td>143713154</td>\n",
       "      <td>131.0</td>\n",
       "      <td>183.0</td>\n",
       "      <td>hDcWfBq5bxM</td>\n",
       "      <td>1424.0</td>\n",
       "      <td>10 Amazing Places That Disappear During High Tide</td>\n",
       "      <td>360859.0</td>\n",
       "    </tr>\n",
       "    <tr>\n",
       "      <th>3168</th>\n",
       "      <td>UCXtjxYo_xhm1GoSPlgfV3eQ</td>\n",
       "      <td>EG Mines</td>\n",
       "      <td>403931</td>\n",
       "      <td>658</td>\n",
       "      <td>119696149</td>\n",
       "      <td>1.0</td>\n",
       "      <td>7.0</td>\n",
       "      <td>D_wROW7u89Y</td>\n",
       "      <td>7.0</td>\n",
       "      <td>Simple Math Test in 59 Seconds - Genius Test</td>\n",
       "      <td>2483.0</td>\n",
       "    </tr>\n",
       "  </tbody>\n",
       "</table>\n",
       "</div>"
      ],
      "text/plain": [
       "                     channel_id channel_name  channel_subscribers  \\\n",
       "11218  UC7t6FZ5U17ruEXRH1WRxcTQ     Top List                    0   \n",
       "3168   UCXtjxYo_xhm1GoSPlgfV3eQ     EG Mines               403931   \n",
       "\n",
       "       channel_videos  channel_views  video_comments  video_dislikes  \\\n",
       "11218             193      143713154           131.0           183.0   \n",
       "3168              658      119696149             1.0             7.0   \n",
       "\n",
       "          video_id  video_likes  \\\n",
       "11218  hDcWfBq5bxM       1424.0   \n",
       "3168   D_wROW7u89Y          7.0   \n",
       "\n",
       "                                             video_title  video_views  \n",
       "11218  10 Amazing Places That Disappear During High Tide     360859.0  \n",
       "3168        Simple Math Test in 59 Seconds - Genius Test       2483.0  "
      ]
     },
     "execution_count": 53,
     "metadata": {},
     "output_type": "execute_result"
    }
   ],
   "source": [
    "utube_clickbait_df.head(2)"
   ]
  },
  {
   "cell_type": "code",
   "execution_count": 54,
   "metadata": {
    "colab": {
     "base_uri": "https://localhost:8080/",
     "height": 35
    },
    "colab_type": "code",
    "executionInfo": {
     "elapsed": 11525,
     "status": "ok",
     "timestamp": 1543530144267,
     "user": {
      "displayName": "Shared 98999",
      "photoUrl": "",
      "userId": "02966646165121999534"
     },
     "user_tz": 480
    },
    "id": "OkHGL4mvU_vP",
    "outputId": "112f2f54-11bc-456f-8056-1834340fcd8e"
   },
   "outputs": [
    {
     "data": {
      "text/plain": [
       "(18317, 11)"
      ]
     },
     "execution_count": 54,
     "metadata": {},
     "output_type": "execute_result"
    }
   ],
   "source": [
    "utube_clickbait_df.shape"
   ]
  },
  {
   "cell_type": "code",
   "execution_count": 55,
   "metadata": {},
   "outputs": [
    {
     "data": {
      "text/html": [
       "<div>\n",
       "<style scoped>\n",
       "    .dataframe tbody tr th:only-of-type {\n",
       "        vertical-align: middle;\n",
       "    }\n",
       "\n",
       "    .dataframe tbody tr th {\n",
       "        vertical-align: top;\n",
       "    }\n",
       "\n",
       "    .dataframe thead th {\n",
       "        text-align: right;\n",
       "    }\n",
       "</style>\n",
       "<table border=\"1\" class=\"dataframe\">\n",
       "  <thead>\n",
       "    <tr style=\"text-align: right;\">\n",
       "      <th></th>\n",
       "      <th>channel_id</th>\n",
       "      <th>channel_name</th>\n",
       "      <th>channel_subscribers</th>\n",
       "      <th>channel_videos</th>\n",
       "      <th>channel_views</th>\n",
       "      <th>video_comments</th>\n",
       "      <th>video_dislikes</th>\n",
       "      <th>video_id</th>\n",
       "      <th>video_likes</th>\n",
       "      <th>video_title</th>\n",
       "      <th>video_views</th>\n",
       "    </tr>\n",
       "  </thead>\n",
       "  <tbody>\n",
       "    <tr>\n",
       "      <th>11218</th>\n",
       "      <td>UC7t6FZ5U17ruEXRH1WRxcTQ</td>\n",
       "      <td>Top List</td>\n",
       "      <td>0</td>\n",
       "      <td>193</td>\n",
       "      <td>143713154</td>\n",
       "      <td>131.0</td>\n",
       "      <td>183.0</td>\n",
       "      <td>hDcWfBq5bxM</td>\n",
       "      <td>1424.0</td>\n",
       "      <td>10 Amazing Places That Disappear During High Tide</td>\n",
       "      <td>360859.0</td>\n",
       "    </tr>\n",
       "    <tr>\n",
       "      <th>3168</th>\n",
       "      <td>UCXtjxYo_xhm1GoSPlgfV3eQ</td>\n",
       "      <td>EG Mines</td>\n",
       "      <td>403931</td>\n",
       "      <td>658</td>\n",
       "      <td>119696149</td>\n",
       "      <td>1.0</td>\n",
       "      <td>7.0</td>\n",
       "      <td>D_wROW7u89Y</td>\n",
       "      <td>7.0</td>\n",
       "      <td>Simple Math Test in 59 Seconds - Genius Test</td>\n",
       "      <td>2483.0</td>\n",
       "    </tr>\n",
       "  </tbody>\n",
       "</table>\n",
       "</div>"
      ],
      "text/plain": [
       "                     channel_id channel_name  channel_subscribers  \\\n",
       "11218  UC7t6FZ5U17ruEXRH1WRxcTQ     Top List                    0   \n",
       "3168   UCXtjxYo_xhm1GoSPlgfV3eQ     EG Mines               403931   \n",
       "\n",
       "       channel_videos  channel_views  video_comments  video_dislikes  \\\n",
       "11218             193      143713154           131.0           183.0   \n",
       "3168              658      119696149             1.0             7.0   \n",
       "\n",
       "          video_id  video_likes  \\\n",
       "11218  hDcWfBq5bxM       1424.0   \n",
       "3168   D_wROW7u89Y          7.0   \n",
       "\n",
       "                                             video_title  video_views  \n",
       "11218  10 Amazing Places That Disappear During High Tide     360859.0  \n",
       "3168        Simple Math Test in 59 Seconds - Genius Test       2483.0  "
      ]
     },
     "execution_count": 55,
     "metadata": {},
     "output_type": "execute_result"
    }
   ],
   "source": [
    "utube_clickbait_df.head(2)"
   ]
  },
  {
   "cell_type": "code",
   "execution_count": 56,
   "metadata": {
    "colab": {
     "base_uri": "https://localhost:8080/",
     "height": 35
    },
    "colab_type": "code",
    "executionInfo": {
     "elapsed": 11516,
     "status": "ok",
     "timestamp": 1543530144268,
     "user": {
      "displayName": "Shared 98999",
      "photoUrl": "",
      "userId": "02966646165121999534"
     },
     "user_tz": 480
    },
    "id": "qDp-aWhlU_vV",
    "outputId": "7d73604b-036f-4432-eb78-9f25f08ca996"
   },
   "outputs": [
    {
     "data": {
      "text/plain": [
       "(19080, 11)"
      ]
     },
     "execution_count": 56,
     "metadata": {},
     "output_type": "execute_result"
    }
   ],
   "source": [
    "utube_nonclickbait_df.shape"
   ]
  },
  {
   "cell_type": "code",
   "execution_count": 57,
   "metadata": {
    "colab": {},
    "colab_type": "code",
    "id": "OH225GROU_vb"
   },
   "outputs": [],
   "source": [
    "import re\n",
    "import emoji\n",
    "from gensim.parsing.preprocessing import *\n",
    "\n",
    "\n",
    "def tokenize(string):\n",
    "\n",
    "    \"\"\" Tokenizes a string.\n",
    "    \"\"\"\n",
    "    stop_words = [\n",
    "        \"about\", \"an\", \"are\", \"as\", \"at\", \"be\", \"by\", \"com\", \"for\", \"from\", \"in\", \"is\", \"it\", \"of\", \"on\", \"or\", \"that\",\n",
    "        \"the\", \"this\", \"to\", \"was\", \"what\", \"when\", \"where\", \"who\", \"with\", \"the\", \"www\"\n",
    "    ]\n",
    "\n",
    "    string = strip_short(\n",
    "        strip_multiple_whitespaces(\n",
    "            strip_punctuation(\n",
    "                split_alphanum(string))),\n",
    "        minsize=2)\n",
    "    \n",
    "    emojis = [ c for c in string if c in emoji.UNICODE_EMOJI ]\n",
    "    \n",
    "    string = stem_text(re.sub(r\"[^\\w\\s,]\", \"\", string))\n",
    "    \n",
    "\n",
    "    tokens = string.split() + emojis\n",
    "    \n",
    "    for stop_word in stop_words:\n",
    "        try:\n",
    "            tokens.remove(stop_word)\n",
    "        except:\n",
    "            pass\n",
    "\n",
    "    return tokens"
   ]
  },
  {
   "cell_type": "code",
   "execution_count": 58,
   "metadata": {
    "colab": {},
    "colab_type": "code",
    "id": "obVIBf8jU_vf"
   },
   "outputs": [],
   "source": [
    "utube_clickbait_df[\"video_title_tokenized\"] = utube_clickbait_df[\"video_title\"].apply(tokenize)\n",
    "utube_nonclickbait_df[\"video_title_tokenized\"] = utube_nonclickbait_df[\"video_title\"].apply(tokenize)"
   ]
  },
  {
   "cell_type": "code",
   "execution_count": 59,
   "metadata": {
    "colab": {},
    "colab_type": "code",
    "id": "kmNsnTtLU_vi"
   },
   "outputs": [],
   "source": [
    "import pandas as pd\n",
    "from sklearn.model_selection import train_test_split\n",
    "\n",
    "\n",
    "utube_clickbait_df[\"label\"] = 1\n",
    "utube_nonclickbait_df[\"label\"] = 0\n",
    "\n",
    "utube_clickbait_df = utube_clickbait_df.sample(frac=1).sample(frac=1).sample(n=18000)\n",
    "utube_nonclickbait_df = utube_nonclickbait_df.sample(frac=1).sample(frac=1).sample(n=18000)\n",
    "\n",
    "\n",
    "dataframe = pd.concat([ utube_clickbait_df, utube_nonclickbait_df ]).sample(frac=1).sample(frac=1)\n",
    "\n",
    "x_utube_train, x_utube_test, y_utube_train, y_utube_test = train_test_split(\n",
    "    dataframe.loc[:, dataframe.columns != \"label\"], \n",
    "    dataframe[\"label\"], \n",
    "    test_size=0.2, \n",
    "    random_state=42)\n",
    "\n",
    "# Export them:\n",
    "pickle.dump(x_utube_train, open(\"data/x-train\", \"wb\"))\n",
    "pickle.dump(y_utube_train, open(\"data/y-train\", \"wb\"))\n",
    "pickle.dump(x_utube_test, open(\"data/x-test\", \"wb\"))\n",
    "pickle.dump(y_utube_test, open(\"data/y-test\", \"wb\"))"
   ]
  },
  {
   "cell_type": "code",
   "execution_count": 60,
   "metadata": {
    "colab": {
     "base_uri": "https://localhost:8080/",
     "height": 35
    },
    "colab_type": "code",
    "executionInfo": {
     "elapsed": 16110,
     "status": "ok",
     "timestamp": 1543530148889,
     "user": {
      "displayName": "Shared 98999",
      "photoUrl": "",
      "userId": "02966646165121999534"
     },
     "user_tz": 480
    },
    "id": "9B14bt_PU_vm",
    "outputId": "4a20c7e4-0070-4c32-f9d3-4a82e1329c17"
   },
   "outputs": [
    {
     "data": {
      "text/plain": [
       "(28800, 12)"
      ]
     },
     "execution_count": 60,
     "metadata": {},
     "output_type": "execute_result"
    }
   ],
   "source": [
    "x_utube_train.shape"
   ]
  },
  {
   "cell_type": "code",
   "execution_count": 61,
   "metadata": {
    "colab": {
     "base_uri": "https://localhost:8080/",
     "height": 35
    },
    "colab_type": "code",
    "executionInfo": {
     "elapsed": 17258,
     "status": "ok",
     "timestamp": 1543530150048,
     "user": {
      "displayName": "Shared 98999",
      "photoUrl": "",
      "userId": "02966646165121999534"
     },
     "user_tz": 480
    },
    "id": "qSnYrPE8U_vp",
    "outputId": "b2822c19-7220-4aa0-908c-0ae506330963"
   },
   "outputs": [
    {
     "data": {
      "text/plain": [
       "(7200, 12)"
      ]
     },
     "execution_count": 61,
     "metadata": {},
     "output_type": "execute_result"
    }
   ],
   "source": [
    "x_utube_test.shape"
   ]
  },
  {
   "cell_type": "code",
   "execution_count": 62,
   "metadata": {
    "colab": {
     "base_uri": "https://localhost:8080/",
     "height": 5579
    },
    "colab_type": "code",
    "executionInfo": {
     "elapsed": 17250,
     "status": "ok",
     "timestamp": 1543530150050,
     "user": {
      "displayName": "Shared 98999",
      "photoUrl": "",
      "userId": "02966646165121999534"
     },
     "user_tz": 480
    },
    "id": "gNBK1l10WQxl",
    "outputId": "06e51b10-cc66-46ae-80b0-53052c2af100"
   },
   "outputs": [
    {
     "data": {
      "text/plain": [
       "<bound method NDFrame.head of                      channel_id                        channel_name  \\\n",
       "11158  UCbu2SsF-Or3Rsn3NxqODImw                            GameSpot   \n",
       "19591  UCq7OHvWO6Z3u-LztFdrcU-g                        Illumination   \n",
       "18028  UCUHW94eEFW7hkUMVaZz4eDg                       minutephysics   \n",
       "18673  UCvthuVsurPaVz2a7_4LepGg                     Family Fun Pack   \n",
       "10489  UCWc3iDmP9rChE3iH1qI3Nqg                         Funny Stuff   \n",
       "14323  UCHgI_MItRWEKLX7lKz7Xn0g                      Top 5 Unknowns   \n",
       "19090  UClW44KG_EKETupl-3BlnLSQ                              Top15s   \n",
       "15136  UC8p1vwvWtl6T73JiExfWs1g                            CBS News   \n",
       "21588  UCT0hbLDa-unWsnZ6Rjzkfug                  FilmSelect Trailer   \n",
       "5956   UCHKdYRn_mmCRZ53APbUDxyw                         ViralTop5TH   \n",
       "21099  UCz1GPotHecuLngiLuY739QQ                  Rotten Tomatoes TV   \n",
       "16230  UCE-J6hbhHnVJyASqIYcZaAw                           TheTrendy   \n",
       "4086   UCtNdZrjjurSTFv-JgvQjssw                              Eskify   \n",
       "19077  UC5M_h2S8Ldoc9M6f7B-_m6A                         Nickelodeon   \n",
       "9645   UCkQO3QsgTpNTsOw6ujimT5Q                           BE AMAZED   \n",
       "9814   UC-JZxrh6AMieCyzuU5ZW3Ow                     Daily Fun Facts   \n",
       "3129   UC9obdDRxQkmn_4YpcBMTYLw                    Tiger FunnyWorks   \n",
       "10705  UCcMTZY1rFXO3Rj44D5VMyiw                           Machinima   \n",
       "846    UCSXk90dGoNNA8hA6888-xIw                     HOT ROD Network   \n",
       "24284  UC1Ydgfp2x8oLYG66KZHXs1g                            TheTalko   \n",
       "5420   UC5cNkYu8ghbZ5ZxP51_vmLw                              MrWolf   \n",
       "8035   UCpprBWvibvmOlI8yJOEAAjA                    Cooking with Dog   \n",
       "10447  UCcMTZY1rFXO3Rj44D5VMyiw                           Machinima   \n",
       "10308  UC_ntXHv-XdKCD7CPynVvnQw  Bandai Namco Entertainment America   \n",
       "6478   UC1Ydgfp2x8oLYG66KZHXs1g                            TheTalko   \n",
       "17074  UCddiUEpeqJcYeBxX1IVBKvQ                           The Verge   \n",
       "26480  UCXtjxYo_xhm1GoSPlgfV3eQ                            EG Mines   \n",
       "11764  UC9CuvdOVfMPvKCiwdGKL3cQ                          GameGrumps   \n",
       "5863   UCHgI_MItRWEKLX7lKz7Xn0g                      Top 5 Unknowns   \n",
       "4058   UCeovElJP0n0i8ADaPsRSd8g                            HAINBACH   \n",
       "...                         ...                                 ...   \n",
       "3428   UC2pmfLm7iq6Ov1UwYrWYkZA                                VEVO   \n",
       "13342  UCX--mGSg0UwDjl7MDL8H5Jg                           BabbleTop   \n",
       "14617  UC1GRwRLCIIrVumvffZTFlYQ                        TheNeilriver   \n",
       "19630  UCY7VOCC8G84eKHC-p_2gr8Q                              VISUAL   \n",
       "10449  UClW44KG_EKETupl-3BlnLSQ                              Top15s   \n",
       "21413  UCi6h9BahBCZl0w_xaFXdmBQ                           Pics Tube   \n",
       "21178  UCz1GPotHecuLngiLuY739QQ                  Rotten Tomatoes TV   \n",
       "8626   UCptbwGpeNR7h0xEyN9354aQ                     Life Well Lived   \n",
       "1179   UCpYgMYvvs-NGiquQ5ubZnXg                       Mr. Fast 2018   \n",
       "14737  UCeY0bbntWzzVIaj2z3QigXg                            NBC News   \n",
       "19543  UCq7OHvWO6Z3u-LztFdrcU-g                        Illumination   \n",
       "25035  UC7t6FZ5U17ruEXRH1WRxcTQ                            Top List   \n",
       "18699  UCvthuVsurPaVz2a7_4LepGg                     Family Fun Pack   \n",
       "14352  UCPDXXXJj9nax0fr0Wfc048g                        CollegeHumor   \n",
       "6202   UCwNqHDsnBCKT-olwJwIFyfg                           FoxSports   \n",
       "14937  UCeY0bbntWzzVIaj2z3QigXg                            NBC News   \n",
       "11077  UCbu2SsF-Or3Rsn3NxqODImw                            GameSpot   \n",
       "9447   UCIsbLox_y9dCIMLd8tdC6qg                         Vanity Fair   \n",
       "1266   UCfqFT4NWPrzpw37-v3BrzKg                 Automobile Magazine   \n",
       "2338   UCVTyTA7-g9nopHeHbeuvpRA         Late Night with Seth Meyers   \n",
       "12063  UCN64HIrZNqFQYZ2BuyY-4zg                              Chills   \n",
       "20057  UCtNdZrjjurSTFv-JgvQjssw                              Eskify   \n",
       "4607   UCTTQAOiR_0DuyQPZ6Dg-LHA                           Talltanic   \n",
       "5841   UCttFk8-Nysnyw59aNlWOWzw                    7-Second Riddles   \n",
       "14135  UCSAUGyc_xA8uYzaIVG6MESQ                            nigahiga   \n",
       "19169  UC5M_h2S8Ldoc9M6f7B-_m6A                         Nickelodeon   \n",
       "4767   UCqOoboPm3uhY_YXhvhmL-WA                           Discovery   \n",
       "9347   UCIsbLox_y9dCIMLd8tdC6qg                         Vanity Fair   \n",
       "10839  UCXZpQgX1897wYDLtvzmgyIA                         Facts Verse   \n",
       "11699  UC6fa3nIeDvpEA0dMckNLvvQ                          Trend Land   \n",
       "\n",
       "       channel_subscribers  channel_videos  channel_views  video_comments  \\\n",
       "11158              3528600           32540     2001383200          1878.0   \n",
       "19591              1155943             284      790757644           137.0   \n",
       "18028              4450208             225      379285736          4765.0   \n",
       "18673              7557980            1256    10020147420          1013.0   \n",
       "10489                35807             398       14713447             8.0   \n",
       "14323              1574414             604      307642692           455.0   \n",
       "19090              2682709             281      579286484          9655.0   \n",
       "15136               915960           64208      764364794           552.0   \n",
       "21588              1884219             532     1071069757           966.0   \n",
       "5956                     0             393       41295727          6548.0   \n",
       "21099                35149            2309       10372900             0.0   \n",
       "16230               924704             278      233852460           230.0   \n",
       "4086                327602             238       91254118           256.0   \n",
       "19077              4501624            2867     2671265094          1244.0   \n",
       "9645               3982557             684      905666764          6996.0   \n",
       "9814                250683             422      117479315            67.0   \n",
       "3129               1005061             414      551069192           114.0   \n",
       "10705             12461950           24260     4366791170           830.0   \n",
       "846                 212272             692       38454362            25.0   \n",
       "24284              6299137            1900     2562748623           382.0   \n",
       "5420                     0             303      270690522           176.0   \n",
       "8035               1424711             337      187476726           545.0   \n",
       "10447             12461950           24260     4366791170          6659.0   \n",
       "10308               476356            1515      176137306           671.0   \n",
       "6478               6299137            1900     2562748623           151.0   \n",
       "17074              2131876            3587      562379578           627.0   \n",
       "26480               403931             658      119696149           335.0   \n",
       "11764              4812683            6200     4318690541          2164.0   \n",
       "5863               1574414             604      307642692          1597.0   \n",
       "4058                 10430             173         563111            41.0   \n",
       "...                    ...             ...            ...             ...   \n",
       "3428              17332982            1543      535954711           201.0   \n",
       "13342               119764             248       53525150            87.0   \n",
       "14617                 6302            1737        3756398             1.0   \n",
       "19630               380913             576      105718893           107.0   \n",
       "10449              2682709             281      579286484           778.0   \n",
       "21413               165423             336       50171470            18.0   \n",
       "21178                35149            2309       10372900             2.0   \n",
       "8626                778864            1055      125021632             8.0   \n",
       "1179                365374              85      160096722            13.0   \n",
       "14737               826368           13284      368600173         10544.0   \n",
       "19543              1155943             284      790757644           503.0   \n",
       "25035                    0             193      143713154            57.0   \n",
       "18699              7557980            1256    10020147420          1556.0   \n",
       "14352             13318846            3174     6548723845          5257.0   \n",
       "6202                515371            3313      365998393           255.0   \n",
       "14937               826368           13284      368600173           171.0   \n",
       "11077              3528600           32540     2001383200          1597.0   \n",
       "9447                945571            1899      444086369            72.0   \n",
       "1266                 62052             293       23272655             0.0   \n",
       "2338               2337876            2334      964877486          3168.0   \n",
       "12063              2299471             129      313604126           708.0   \n",
       "20057               327602             238       91254118           165.0   \n",
       "4607               2085542            1112      790617598            32.0   \n",
       "5841               1293822             908      354362738           424.0   \n",
       "14135             21241606             343     3869741987         23614.0   \n",
       "19169              4501624            2867     2671265094          1048.0   \n",
       "4767               3096192            7702     1455566930           677.0   \n",
       "9347                945571            1899      444086369           314.0   \n",
       "10839              5201694             883     1527891480          8153.0   \n",
       "11699                70270              37       33771163             9.0   \n",
       "\n",
       "       video_dislikes     video_id  video_likes  \\\n",
       "11158           827.0  mumJH5BfJTk       5324.0   \n",
       "19591           216.0  DMk8ufjWIbQ       2139.0   \n",
       "18028          3864.0  ebEkn-BiW5k      56259.0   \n",
       "18673          1594.0  5ZAb1PGORXw       6767.0   \n",
       "10489             1.0  ZNzSBB5v7gM         63.0   \n",
       "14323           177.0  EwqHtaipCsQ       4272.0   \n",
       "19090          3348.0  XNPnwr_f6Pg      28089.0   \n",
       "15136           141.0  uzRcf1MTHfU       1571.0   \n",
       "21588           842.0  qSFZW5efo6M      10405.0   \n",
       "5956           7355.0  p-lfaAaDTqE      24468.0   \n",
       "21099             2.0  NQjBtbSUW5A         28.0   \n",
       "16230           151.0  fIvnrLnz7i8       1076.0   \n",
       "4086             75.0  rUQUa47vdt0       1917.0   \n",
       "19077          1604.0  RcwRlSh_UBA       9276.0   \n",
       "9645           2822.0  f6UvXFw1u9s      29003.0   \n",
       "9814             52.0  nwKhxfKGkgY        818.0   \n",
       "3129            199.0  QLb_9S_H51E       1193.0   \n",
       "10705           215.0  Qe7H8CKuOpk       2126.0   \n",
       "846               1.0  Qu60w7Yv53A        401.0   \n",
       "24284          1434.0  HKBUqDtvzKc       2996.0   \n",
       "5420            148.0  T9iFQ9tnisk       1198.0   \n",
       "8035             57.0  mA3U44Ex0Sk       3983.0   \n",
       "10447          1976.0  FmRcF07ipbw      76712.0   \n",
       "10308           167.0  BYNQLo9zzKc       2210.0   \n",
       "6478            139.0  UiOkZ-DAGTE       1027.0   \n",
       "17074           130.0  _J5IZxI_xKk       5079.0   \n",
       "26480            95.0  nHYJlkeVJIU        629.0   \n",
       "11764           250.0  _RlBCOVszIk      19421.0   \n",
       "5863           1175.0  73b1wj4sWgQ       8854.0   \n",
       "4058              1.0  pX4rm62v_s8         82.0   \n",
       "...               ...          ...          ...   \n",
       "3428            353.0  MZ1q803yVVk       5073.0   \n",
       "13342            12.0  lGg1fdu7ZsY        144.0   \n",
       "14617             0.0  wsEF9ExxzVU         12.0   \n",
       "19630            69.0  0NkGNDGMv7k        764.0   \n",
       "10449           226.0  ClP2lcRR-d4       5566.0   \n",
       "21413             9.0  6wJpjYPqL9M         95.0   \n",
       "21178             2.0  20FYx3N4tSY         12.0   \n",
       "8626             25.0  nU8DtM719Jk        270.0   \n",
       "1179             18.0  NesrA66H_9A        195.0   \n",
       "14737         11537.0  ti2Nokoq1J4      36611.0   \n",
       "19543           365.0  n5BszQSTuoI       2879.0   \n",
       "25035            30.0  QyZUSmsDjWM        307.0   \n",
       "18699           680.0  B1dOk67ZuUA       7847.0   \n",
       "14352          3370.0  4HUBOD7Qt74      39312.0   \n",
       "6202             36.0  fFdRk2DYolM        222.0   \n",
       "14937           101.0  ntmji0ZBDBA        229.0   \n",
       "11077           473.0  hHTE5xg9E-g       9780.0   \n",
       "9447             17.0  3NWvnauiDs8       2162.0   \n",
       "1266              1.0  2rAbXozcDk0         21.0   \n",
       "2338           2107.0  0FQfThSU11E      24501.0   \n",
       "12063           174.0  CSoP-ezfRfk       4895.0   \n",
       "20057            35.0  txdYBo-7M0Y        841.0   \n",
       "4607             25.0  6bYIdGFsuSI        364.0   \n",
       "5841            310.0  pTcYYb_G5m4       2466.0   \n",
       "14135          2184.0  uI8hzNEHku8     230499.0   \n",
       "19169           254.0  Bm5lHCLmVNQ       3396.0   \n",
       "4767            345.0  bUHukX6aq2Q       6015.0   \n",
       "9347            119.0  ibVKeM7BbVk       4657.0   \n",
       "10839          6002.0  -HWUNjO-Lvo      16470.0   \n",
       "11699            22.0  cAbioc_ZgY4         39.0   \n",
       "\n",
       "                                             video_title  video_views  \\\n",
       "11158  Anthem - Full Gameplay Reveal Presentation | E...     435603.0   \n",
       "19591     Despicable Me - Minions on \"The Biggest Loser\"     606401.0   \n",
       "18028                                  Simpson's Paradox    2091885.0   \n",
       "18673         PANNING FOR DIAMONDS & GOLD IN REAL LIFE!!    3130964.0   \n",
       "10489                 These Dogs Will Make You Envy Them       2725.0   \n",
       "14323  5 Creepiest Unsolved Disappearances That Need ...     310413.0   \n",
       "19090           Top 15 Most Scary Videos Caught on Buses    2300214.0   \n",
       "15136           Darien Gap: Desperate Journey to America     265730.0   \n",
       "21588                  WESTWORLD Season 2 Trailer (2018)    2597146.0   \n",
       "5956   5 KING KONG CAUGHT ON CAMERA & SPOTTED IN REAL...    4064937.0   \n",
       "21099    Legion Season 2 First Look | Rotten Tomatoes TV       2660.0   \n",
       "16230     10 YouTube Music Videos That Pissed People Off      54254.0   \n",
       "4086                        The World's Most CURSED City      94370.0   \n",
       "19077  SpongeBob Adopts a Sea Bunny! 🐰 EXCLUSIVE Snea...    3648120.0   \n",
       "9645         10 STRONGEST Signs of Aliens and Alien Life    5942704.0   \n",
       "9814   Hilarious & Creative Puns That Will Make You L...      51806.0   \n",
       "3129   SUPER FUNNY ANIMALS! - Try not to LAUGH or SMI...     147005.0   \n",
       "10705  Daisy's Dilemma (Super Smash Bros Brawl Machin...     693503.0   \n",
       "846    Engine fires can't stop Spirit of Drag Week Wi...      11676.0   \n",
       "24284  10 Celebs Who Insulted James Corden On Television     466515.0   \n",
       "5420   5 ANGELS CAUGHT ON CAMERA & SPOTTED IN REAL LI...     213071.0   \n",
       "8035                Sardine Tsumire-jiru いわしのつみれ汁 作り方レシピ     205387.0   \n",
       "10447                                GTA V Stunt Montage    5915861.0   \n",
       "10308          NEW GUNDAM BREAKER - Teaser Trailer | PS4     174836.0   \n",
       "6478            10 Edible Makeup Ideas / 10 Funny Pranks      90227.0   \n",
       "17074  GDPR: Why you just got bombarded with privacy ...     213217.0   \n",
       "26480  Almost Nobody Can Find Odd Letters in 25 Secon...     137765.0   \n",
       "11764                              Shaq-Fu - Game Grumps     864165.0   \n",
       "5863   5 Mysterious Things Found on 4Chan That STILL ...     712965.0   \n",
       "4058   Hainbach - Ich bin der Welt abhanden gekommen ...       1496.0   \n",
       "...                                                  ...          ...   \n",
       "3428                    Juanes - Vevo GO Shows: Una Flor     712693.0   \n",
       "13342  Top 10 Gordon Ramsay Masterchef Junior GUEST J...       9512.0   \n",
       "14617                         GOD SHIVA APPEARING IN SKY        336.0   \n",
       "19630  Something Powerful Caused the Ocean to Split i...      23538.0   \n",
       "10449  Top 15 Creepy EVIL Things People Did Dressed A...     130033.0   \n",
       "21413  10+ Pictures Proving That the Right Angle Is E...       7509.0   \n",
       "21178  Homecoming Season 1 Comic-Con Teaser | Rotten ...       1256.0   \n",
       "8626   This Is Why You Can't Lose That Stubborn Belly...       8638.0   \n",
       "1179   Amazing Creative Workers - They work with Pass...      31560.0   \n",
       "14737          NBC News-YouTube Democratic Debate (Full)    3716999.0   \n",
       "19543  Despicable Me - Clip: \"The girls ask Vector ab...    2452781.0   \n",
       "25035                      5 Unbelievable Miracle Babies      45541.0   \n",
       "18699  TWINS FIRST UPSIDE DOWN ROLLER COASTER! 🎢 Cali...    2455371.0   \n",
       "14352                                   God's Boss Craig    2911396.0   \n",
       "6202   Shabazz Napier: \"Some nights I go to bed starv...     130370.0   \n",
       "14937  NFL Star Michael Bennett Says Police Threatene...      47604.0   \n",
       "11077                            Fortnite Teaser Trailer    1140181.0   \n",
       "9447   Helen Mirren Is Terrifying with a Whip | Secre...     196203.0   \n",
       "1266                  2018 Jeep Wrangler vs. New Zealand       1057.0   \n",
       "2338   Trump Lies to Trudeau, Fills His Staff with Lo...    3606169.0   \n",
       "12063                        5 Creepy Uber Scary Stories     241332.0   \n",
       "20057                        The Dog With Magical Powers      21040.0   \n",
       "4607                       STRANGEST Houses in the World      21643.0   \n",
       "5841         BEST RIDDLES TO BREAK YOUR HEAD INTO PIECES     344768.0   \n",
       "14135                                Life of a Youtuber!    4456657.0   \n",
       "19169     Every 💖 Crush 💘 Ever 💗 | The Loud House | Nick    1086807.0   \n",
       "4767   Behind the Crash: Big Chief & The Crow | Stree...    2078197.0   \n",
       "9347   Conan O’Brien, Jimmy Kimmel, John Oliver & Oth...     662757.0   \n",
       "10839  Farmers In Switzerland Drilling Holes In The S...    2834805.0   \n",
       "11699  dad tries saving son from falling off roller c...       4643.0   \n",
       "\n",
       "                                   video_title_tokenized  \n",
       "11158  [anthem, full, gameplai, reveal, present, ea, ...  \n",
       "19591               [despic, me, minion, biggest, loser]  \n",
       "18028                                 [simpson, paradox]  \n",
       "18673                   [pan, diamond, gold, real, life]  \n",
       "10489          [these, dog, will, make, you, envi, them]  \n",
       "14323       [creepiest, unsolv, disappear, need, explan]  \n",
       "19090        [top, 15, most, scari, video, caught, buse]  \n",
       "15136            [darien, gap, desper, journei, america]  \n",
       "21588                 [westworld, season, trailer, 2018]  \n",
       "5956      [king, kong, caught, camera, spot, real, life]  \n",
       "21099  [legion, season, first, look, rotten, tomato, tv]  \n",
       "16230       [10, youtub, music, video, piss, peopl, off]  \n",
       "4086                           [world, most, curs, citi]  \n",
       "19077  [spongebob, adopt, sea, bunni, exclus, sneak, ...  \n",
       "9645      [10, strongest, sign, alien, and, alien, life]  \n",
       "9814      [hilari, creativ, pun, will, make, you, laugh]  \n",
       "3129   [super, funni, anim, try, not, laugh, smile, i...  \n",
       "10705  [daisi, dilemma, super, smash, bro, brawl, mac...  \n",
       "846    [engin, fire, can, stop, spirit, drag, week, w...  \n",
       "24284         [10, celeb, insult, jame, corden, televis]  \n",
       "5420           [angel, caught, camera, spot, real, life]  \n",
       "8035            [sardin, tsumir, jiru, いわしのつみれ汁, 作り方レシピ]  \n",
       "10447                               [gta, stunt, montag]  \n",
       "10308       [new, gundam, breaker, teaser, trailer, ps4]  \n",
       "6478         [10, edibl, makeup, idea, 10, funni, prank]  \n",
       "17074  [gdpr, why, you, just, got, bombard, privaci, ...  \n",
       "26480  [almost, nobodi, can, find, odd, letter, 25, s...  \n",
       "11764                            [shaq, fu, game, grump]  \n",
       "5863   [mysteri, thing, found, 4chan, still, need, ex...  \n",
       "4058   [hainbach, ich, bin, der, welt, abhanden, geko...  \n",
       "...                                                  ...  \n",
       "3428                   [juan, vevo, go, show, una, flor]  \n",
       "13342  [top, 10, gordon, ramsai, masterchef, junior, ...  \n",
       "14617                          [god, shiva, appear, sky]  \n",
       "19630           [someth, power, caus, ocean, split, two]  \n",
       "10449  [top, 15, creepi, evil, thing, peopl, did, dre...  \n",
       "21413          [10, pictur, prove, right, angl, everyth]  \n",
       "21178  [homecom, season, comic, con, teaser, rotten, ...  \n",
       "8626   [thi, why, you, can, lose, stubborn, belli, fa...  \n",
       "1179    [amaz, creativ, worker, thei, work, passion, 14]  \n",
       "14737          [nbc, new, youtub, democrat, debat, full]  \n",
       "19543  [despic, me, clip, girl, ask, vector, hi, paja...  \n",
       "25035                           [unbeliev, miracl, babi]  \n",
       "18699  [twin, first, upsid, down, roller, coaster, ca...  \n",
       "14352                                 [god, boss, craig]  \n",
       "6202      [shabazz, napier, some, night, go, bed, starv]  \n",
       "14937  [nfl, star, michael, bennett, sai, polic, thre...  \n",
       "11077                         [fortnit, teaser, trailer]  \n",
       "9447   [helen, mirren, terrifi, whip, secret, talent,...  \n",
       "1266            [2018, jeep, wrangler, vs, new, zealand]  \n",
       "2338   [trump, li, trudeau, fill, hi, staff, loyalist...  \n",
       "12063                       [creepi, uber, scari, stori]  \n",
       "20057                                [dog, magic, power]  \n",
       "4607                            [strangest, hous, world]  \n",
       "5841        [best, riddl, break, your, head, into, piec]  \n",
       "14135                                     [life, youtub]  \n",
       "19169             [everi, crush, ever, loud, hous, nick]  \n",
       "4767   [behind, crash, big, chief, crow, street, outlaw]  \n",
       "9347   [conan, obrien, jimmi, kimmel, john, oliv, oth...  \n",
       "10839  [farmer, switzerland, drill, hole, in, stomach...  \n",
       "11699  [dad, tri, save, son, fall, off, roller, coast...  \n",
       "\n",
       "[7200 rows x 12 columns]>"
      ]
     },
     "execution_count": 62,
     "metadata": {},
     "output_type": "execute_result"
    }
   ],
   "source": [
    "x_utube_test.head"
   ]
  },
  {
   "cell_type": "code",
   "execution_count": 63,
   "metadata": {
    "colab": {},
    "colab_type": "code",
    "id": "fNjI5rR_U_vv"
   },
   "outputs": [],
   "source": [
    "import numpy as np\n",
    "\n",
    "\n",
    "def average_embedding(tokens, word2vec, na_vector=None):\n",
    "\n",
    "    vectors = list()\n",
    "\n",
    "    for token in tokens:\n",
    "        if token in word2vec:\n",
    "            vectors.append(word2vec[token])\n",
    "\n",
    "    if len(vectors) == 0 and na_vector is not None:\n",
    "        vectors.append(na_vector)\n",
    "\n",
    "    return np.mean(np.array(vectors), axis=0)"
   ]
  },
  {
   "cell_type": "code",
   "execution_count": 64,
   "metadata": {
    "colab": {},
    "colab_type": "code",
    "id": "eJcz3BbpU_v0"
   },
   "outputs": [],
   "source": [
    "import gensim\n",
    "\n",
    "\n",
    "documents = x_utube_train[\"video_title_tokenized\"]\n",
    "word2vec = gensim.models.Word2Vec(\n",
    "    documents,\n",
    "    size=25,\n",
    "    window=20,\n",
    "    min_count=1,\n",
    "    workers=2\n",
    ")\n",
    "word2vec.train(documents, total_examples=len(documents), epochs=30)\n",
    "\n",
    "# Export it:\n",
    "pickle.dump(word2vec, open(\"data/word2vec\", \"wb\"))"
   ]
  },
  {
   "cell_type": "code",
   "execution_count": 65,
   "metadata": {
    "colab": {
     "base_uri": "https://localhost:8080/",
     "height": 143
    },
    "colab_type": "code",
    "executionInfo": {
     "elapsed": 38427,
     "status": "ok",
     "timestamp": 1543530171237,
     "user": {
      "displayName": "Shared 98999",
      "photoUrl": "",
      "userId": "02966646165121999534"
     },
     "user_tz": 480
    },
    "id": "WkeGtfCQU_v5",
    "outputId": "87e8c10d-466f-49d8-adae-ef2ef717ed2c"
   },
   "outputs": [
    {
     "name": "stderr",
     "output_type": "stream",
     "text": [
      "C:\\Users\\Abhishek\\Anaconda3\\lib\\site-packages\\ipykernel_launcher.py:9: DeprecationWarning: Call to deprecated `__contains__` (Method will be removed in 4.0.0, use self.wv.__contains__() instead).\n",
      "  if __name__ == '__main__':\n",
      "C:\\Users\\Abhishek\\Anaconda3\\lib\\site-packages\\ipykernel_launcher.py:10: DeprecationWarning: Call to deprecated `__getitem__` (Method will be removed in 4.0.0, use self.wv.__getitem__() instead).\n",
      "  # Remove the CWD from sys.path while we load stuff.\n",
      "C:\\Users\\Abhishek\\Anaconda3\\lib\\site-packages\\numpy\\core\\fromnumeric.py:2920: RuntimeWarning: Mean of empty slice.\n",
      "  out=out, **kwargs)\n"
     ]
    }
   ],
   "source": [
    "titles_embeddings = x_utube_train[\"video_title_tokenized\"].apply(average_embedding, word2vec=word2vec)\n",
    "utube_training_set = pd.concat(\n",
    "    [\n",
    "        x_utube_train[[\"video_views\", \"video_likes\", \"video_dislikes\", \"video_comments\"]],\n",
    "        titles_embeddings.apply(pd.Series)\n",
    "    ], axis=1)\n",
    "\n",
    "utube_training_set[\"label\"] = y_utube_train\n",
    "utube_training_set = utube_training_set.dropna()\n",
    "\n",
    "mean_title_embedding = titles_embeddings.dropna().mean(axis=0)\n",
    "pickle.dump(mean_title_embedding, open(\"mean-title-embedding\", \"wb\"))\n",
    "\n",
    "titles_embeddings = x_utube_test[\"video_title_tokenized\"].apply(average_embedding, word2vec=word2vec, na_vector=mean_title_embedding)\n",
    "utube_testing_set = pd.concat(\n",
    "    [\n",
    "        x_utube_test[[\"video_views\", \"video_likes\", \"video_dislikes\", \"video_comments\"]],\n",
    "        titles_embeddings.apply(pd.Series)\n",
    "    ], axis=1)\n",
    "utube_testing_set[\"label\"] = y_utube_test"
   ]
  },
  {
   "cell_type": "code",
   "execution_count": 66,
   "metadata": {
    "colab": {
     "base_uri": "https://localhost:8080/",
     "height": 35
    },
    "colab_type": "code",
    "executionInfo": {
     "elapsed": 38423,
     "status": "ok",
     "timestamp": 1543530171239,
     "user": {
      "displayName": "Shared 98999",
      "photoUrl": "",
      "userId": "02966646165121999534"
     },
     "user_tz": 480
    },
    "id": "B2trY3KZU_v8",
    "outputId": "a2d28f4c-def8-4a5c-d22b-42f2134c256b"
   },
   "outputs": [
    {
     "data": {
      "text/plain": [
       "(28798, 30)"
      ]
     },
     "execution_count": 66,
     "metadata": {},
     "output_type": "execute_result"
    }
   ],
   "source": [
    "utube_training_set.shape"
   ]
  },
  {
   "cell_type": "code",
   "execution_count": 67,
   "metadata": {
    "colab": {
     "base_uri": "https://localhost:8080/",
     "height": 35
    },
    "colab_type": "code",
    "executionInfo": {
     "elapsed": 38415,
     "status": "ok",
     "timestamp": 1543530171239,
     "user": {
      "displayName": "Shared 98999",
      "photoUrl": "",
      "userId": "02966646165121999534"
     },
     "user_tz": 480
    },
    "id": "JJSpHhSlU_wA",
    "outputId": "634ff382-52a0-4214-863e-cd6021527b3c"
   },
   "outputs": [
    {
     "data": {
      "text/plain": [
       "(7200, 30)"
      ]
     },
     "execution_count": 67,
     "metadata": {},
     "output_type": "execute_result"
    }
   ],
   "source": [
    "utube_testing_set.shape"
   ]
  },
  {
   "cell_type": "markdown",
   "metadata": {
    "colab_type": "text",
    "id": "ivEQHzOvU_wD"
   },
   "source": [
    "Considering the logarithm of the video metadata (views, likes, dislikes, comments) to have a normal distribution of values:"
   ]
  },
  {
   "cell_type": "code",
   "execution_count": 47,
   "metadata": {
    "colab": {},
    "colab_type": "code",
    "id": "-g6Ad83eU_wE"
   },
   "outputs": [],
   "source": [
    "utube_training_set[[\"video_views\", \"video_likes\", \"video_dislikes\", \"video_comments\"]] = utube_training_set[[\"video_views\", \"video_likes\", \"video_dislikes\", \"video_comments\"]].apply(np.log)\n",
    "utube_testing_set[[\"video_views\", \"video_likes\", \"video_dislikes\", \"video_comments\"]] = utube_testing_set[[\"video_views\", \"video_likes\", \"video_dislikes\", \"video_comments\"]].apply(np.log)\n",
    "\n",
    "\n",
    "utube_training_set = utube_training_set.replace(-np.inf, 0)\n",
    "utube_testing_set = utube_testing_set.replace(-np.inf, 0)"
   ]
  },
  {
   "cell_type": "code",
   "execution_count": 48,
   "metadata": {
    "colab": {},
    "colab_type": "code",
    "id": "yuM90sqKU_wG"
   },
   "outputs": [],
   "source": [
    "train_labels = utube_training_set[\"label\"]\n",
    "test_labels = utube_testing_set[\"label\"]\n",
    "\n",
    "utube_training_set = utube_training_set.drop(columns=[\"label\"])\n",
    "utube_testing_set = utube_testing_set.drop(columns=[\"label\"])\n",
    "\n",
    "pickle.dump(utube_training_set[\"video_views\"].mean(), open(\"data/mean-log-video-views\", \"wb\"))\n",
    "pickle.dump(utube_training_set[\"video_likes\"].mean(), open(\"data/mean-log-video-likes\", \"wb\"))\n",
    "pickle.dump(utube_training_set[\"video_dislikes\"].mean(), open(\"data/mean-log-video-dislikes\", \"wb\"))\n",
    "pickle.dump(utube_training_set[\"video_comments\"].mean(), open(\"data/mean-log-video-comments\", \"wb\"))"
   ]
  },
  {
   "cell_type": "code",
   "execution_count": 49,
   "metadata": {
    "colab": {},
    "colab_type": "code",
    "id": "kdzYIYb5U_wK"
   },
   "outputs": [],
   "source": [
    "from sklearn import preprocessing\n",
    "\n",
    "\n",
    "min_max_scaler = preprocessing.MinMaxScaler()\n",
    "min_max_scaler.fit(utube_training_set)\n",
    "utube_training_set = pd.DataFrame(min_max_scaler.transform(utube_training_set), columns=utube_training_set.columns)\n",
    "utube_testing_set = pd.DataFrame(min_max_scaler.transform(utube_testing_set), columns=utube_testing_set.columns)\n",
    "\n",
    "# Export it:\n",
    "pickle.dump(min_max_scaler, open(\"data/min-max-scaler\", \"wb\"))"
   ]
  },
  {
   "cell_type": "code",
   "execution_count": 50,
   "metadata": {
    "colab": {},
    "colab_type": "code",
    "id": "nhdWWnstU_wM",
    "scrolled": false
   },
   "outputs": [],
   "source": [
    "from sklearn.svm import SVC\n",
    "from sklearn.model_selection import GridSearchCV\n",
    "from sklearn.metrics import classification_report\n",
    "from sklearn.metrics import accuracy_score\n",
    "from sklearn.metrics import roc_auc_score\n",
    "from sklearn.metrics import f1_score"
   ]
  },
  {
   "cell_type": "code",
   "execution_count": 51,
   "metadata": {
    "colab": {
     "base_uri": "https://localhost:8080/"
    },
    "colab_type": "code",
    "id": "jkaQJnOQU_wQ",
    "outputId": "5f545e7e-f96d-4886-a6bd-b3fbdc2f8416"
   },
   "outputs": [
    {
     "name": "stdout",
     "output_type": "stream",
     "text": [
      "Best SVM with:\n",
      "Performance on the test set (7200 samples):\n",
      "\tAccuracy Score: 0.5809722222222222\n",
      "\tArea under ROC curve: 0.5809722222222222\n",
      "\tClassification report (on the test set):\n",
      "             precision    recall  f1-score   support\n",
      "\n",
      "          0       0.55      0.95      0.69      3600\n",
      "          1       0.80      0.21      0.34      3600\n",
      "\n",
      "avg / total       0.67      0.58      0.52      7200\n",
      "\n"
     ]
    }
   ],
   "source": [
    "svm_params = [\n",
    "    { \"C\": np.linspace(1, 25, 10), \"gamma\": np.linspace(1, 5, 10) },\n",
    "]\n",
    "\n",
    "filename = 'data/svm'\n",
    "grid_search_cv = pickle.load(open(filename, 'rb'))\n",
    "    \n",
    "\n",
    "predictions = grid_search_cv.predict(utube_testing_set)\n",
    "\n",
    "print(\"Best SVM with:\")\n",
    "print(\"Performance on the test set (%d samples):\" % len(utube_testing_set))\n",
    "print(\"\\tAccuracy Score:\", accuracy_score(test_labels, predictions))\n",
    "print(\"\\tArea under ROC curve:\", roc_auc_score(test_labels, predictions))\n",
    "print(\"\\tClassification report (on the test set):\")\n",
    "print(classification_report(test_labels, predictions))\n",
    "\n",
    "#pickle.dump(grid_search_cv.best_estimator_, open(\"data/svm\", \"wb\"))"
   ]
  },
  {
   "cell_type": "code",
   "execution_count": 0,
   "metadata": {
    "colab": {},
    "colab_type": "code",
    "id": "9EjOEovnkX7L"
   },
   "outputs": [],
   "source": []
  }
 ],
 "metadata": {
  "accelerator": "GPU",
  "colab": {
   "name": "01_Youtube Clickbait Detector - Training.ipynb",
   "provenance": [],
   "version": "0.3.2"
  },
  "kernelspec": {
   "display_name": "Python 3",
   "language": "python",
   "name": "python3"
  },
  "language_info": {
   "codemirror_mode": {
    "name": "ipython",
    "version": 3
   },
   "file_extension": ".py",
   "mimetype": "text/x-python",
   "name": "python",
   "nbconvert_exporter": "python",
   "pygments_lexer": "ipython3",
   "version": "3.6.6"
  }
 },
 "nbformat": 4,
 "nbformat_minor": 1
}
